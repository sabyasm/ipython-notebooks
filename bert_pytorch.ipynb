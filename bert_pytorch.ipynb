{
  "nbformat": 4,
  "nbformat_minor": 0,
  "metadata": {
    "colab": {
      "name": "bert-pytorch",
      "version": "0.3.2",
      "provenance": [],
      "include_colab_link": true
    },
    "kernelspec": {
      "name": "python3",
      "display_name": "Python 3"
    },
    "accelerator": "GPU"
  },
  "cells": [
    {
      "cell_type": "markdown",
      "metadata": {
        "id": "view-in-github",
        "colab_type": "text"
      },
      "source": [
        "<a href=\"https://colab.research.google.com/github/sabyasm/ipython-notebooks/blob/master/bert_pytorch.ipynb\" target=\"_parent\"><img src=\"https://colab.research.google.com/assets/colab-badge.svg\" alt=\"Open In Colab\"/></a>"
      ]
    },
    {
      "metadata": {
        "id": "zKqfnPoKrmpV",
        "colab_type": "code",
        "colab": {}
      },
      "cell_type": "code",
      "source": [
        "# http://pytorch.org/\n",
        "from os.path import exists\n",
        "from wheel.pep425tags import get_abbr_impl, get_impl_ver, get_abi_tag\n",
        "platform = '{}{}-{}'.format(get_abbr_impl(), get_impl_ver(), get_abi_tag())\n",
        "cuda_output = !ldconfig -p|grep cudart.so|sed -e 's/.*\\.\\([0-9]*\\)\\.\\([0-9]*\\)$/cu\\1\\2/'\n",
        "accelerator = cuda_output[0] if exists('/dev/nvidia0') else 'cpu'\n",
        "\n",
        "!pip install -q http://download.pytorch.org/whl/{accelerator}/torch-0.4.1-{platform}-linux_x86_64.whl torchvision\n",
        "import torch\n"
      ],
      "execution_count": 0,
      "outputs": []
    },
    {
      "metadata": {
        "id": "ivOBrB-Ij-cU",
        "colab_type": "code",
        "colab": {
          "base_uri": "https://localhost:8080/",
          "height": 136
        },
        "outputId": "87f44d4e-6ac2-4be2-c215-3939aecc0fe4"
      },
      "cell_type": "code",
      "source": [
        "!rm -rf pytorch-pretrained-BERT\n",
        "!git clone https://github.com/huggingface/pytorch-pretrained-BERT.git"
      ],
      "execution_count": 4,
      "outputs": [
        {
          "output_type": "stream",
          "text": [
            "Cloning into 'pytorch-pretrained-BERT'...\n",
            "remote: Enumerating objects: 4, done.\u001b[K\n",
            "remote: Counting objects:  25% (1/4)   \u001b[K\rremote: Counting objects:  50% (2/4)   \u001b[K\rremote: Counting objects:  75% (3/4)   \u001b[K\rremote: Counting objects: 100% (4/4)   \u001b[K\rremote: Counting objects: 100% (4/4), done.\u001b[K\n",
            "remote: Compressing objects:  25% (1/4)   \u001b[K\rremote: Compressing objects:  50% (2/4)   \u001b[K\rremote: Compressing objects:  75% (3/4)   \u001b[K\rremote: Compressing objects: 100% (4/4)   \u001b[K\rremote: Compressing objects: 100% (4/4), done.\u001b[K\n",
            "Receiving objects:   0% (1/1241)   \rReceiving objects:   1% (13/1241)   \rReceiving objects:   2% (25/1241)   \rReceiving objects:   3% (38/1241)   \rReceiving objects:   4% (50/1241)   \rReceiving objects:   5% (63/1241)   \rReceiving objects:   6% (75/1241)   \rReceiving objects:   7% (87/1241)   \rReceiving objects:   8% (100/1241)   \rReceiving objects:   9% (112/1241)   \rReceiving objects:  10% (125/1241)   \rReceiving objects:  11% (137/1241)   \rReceiving objects:  12% (149/1241)   \rReceiving objects:  13% (162/1241)   \rReceiving objects:  14% (174/1241)   \rReceiving objects:  15% (187/1241)   \rReceiving objects:  16% (199/1241)   \rReceiving objects:  17% (211/1241)   \rReceiving objects:  18% (224/1241)   \rReceiving objects:  19% (236/1241)   \rReceiving objects:  20% (249/1241)   \rReceiving objects:  21% (261/1241)   \rReceiving objects:  22% (274/1241)   \rReceiving objects:  23% (286/1241)   \rReceiving objects:  24% (298/1241)   \rReceiving objects:  25% (311/1241)   \rReceiving objects:  26% (323/1241)   \rReceiving objects:  27% (336/1241)   \rReceiving objects:  28% (348/1241)   \rReceiving objects:  29% (360/1241)   \rReceiving objects:  30% (373/1241)   \rReceiving objects:  31% (385/1241)   \rReceiving objects:  32% (398/1241)   \rReceiving objects:  33% (410/1241)   \rReceiving objects:  34% (422/1241)   \rReceiving objects:  35% (435/1241)   \rReceiving objects:  36% (447/1241)   \rReceiving objects:  37% (460/1241)   \rReceiving objects:  38% (472/1241)   \rReceiving objects:  39% (484/1241)   \rReceiving objects:  40% (497/1241)   \rReceiving objects:  41% (509/1241)   \rReceiving objects:  42% (522/1241)   \rReceiving objects:  43% (534/1241)   \rReceiving objects:  44% (547/1241)   \rReceiving objects:  45% (559/1241)   \rReceiving objects:  46% (571/1241)   \rReceiving objects:  47% (584/1241)   \rReceiving objects:  48% (596/1241)   \rReceiving objects:  49% (609/1241)   \rReceiving objects:  50% (621/1241)   \rReceiving objects:  51% (633/1241)   \rReceiving objects:  52% (646/1241)   \rReceiving objects:  53% (658/1241)   \rReceiving objects:  54% (671/1241)   \rReceiving objects:  55% (683/1241)   \rReceiving objects:  56% (695/1241)   \rReceiving objects:  57% (708/1241)   \rReceiving objects:  58% (720/1241)   \rReceiving objects:  59% (733/1241)   \rReceiving objects:  60% (745/1241)   \rReceiving objects:  61% (758/1241)   \rReceiving objects:  62% (770/1241)   \rReceiving objects:  63% (782/1241)   \rReceiving objects:  64% (795/1241)   \rReceiving objects:  65% (807/1241)   \rReceiving objects:  66% (820/1241)   \rReceiving objects:  67% (832/1241)   \rReceiving objects:  68% (844/1241)   \rReceiving objects:  69% (857/1241)   \rReceiving objects:  70% (869/1241)   \rReceiving objects:  71% (882/1241)   \rReceiving objects:  72% (894/1241)   \rReceiving objects:  73% (906/1241)   \rReceiving objects:  74% (919/1241)   \rReceiving objects:  75% (931/1241)   \rReceiving objects:  76% (944/1241)   \rReceiving objects:  77% (956/1241)   \rReceiving objects:  78% (968/1241)   \rReceiving objects:  79% (981/1241)   \rReceiving objects:  80% (993/1241)   \rReceiving objects:  81% (1006/1241)   \rReceiving objects:  82% (1018/1241)   \rReceiving objects:  83% (1031/1241)   \rReceiving objects:  84% (1043/1241)   \rReceiving objects:  85% (1055/1241)   \rReceiving objects:  86% (1068/1241)   \rReceiving objects:  87% (1080/1241)   \rReceiving objects:  88% (1093/1241)   \rReceiving objects:  89% (1105/1241)   \rReceiving objects:  90% (1117/1241)   \rReceiving objects:  91% (1130/1241)   \rReceiving objects:  92% (1142/1241)   \rReceiving objects:  93% (1155/1241)   \rReceiving objects:  94% (1167/1241)   \rReceiving objects:  95% (1179/1241)   \rReceiving objects:  96% (1192/1241)   \rReceiving objects:  97% (1204/1241)   \rReceiving objects:  98% (1217/1241)   \rReceiving objects:  99% (1229/1241)   \rremote: Total 1241 (delta 0), reused 1 (delta 0), pack-reused 1237\u001b[K\n",
            "Receiving objects: 100% (1241/1241)   \rReceiving objects: 100% (1241/1241), 625.24 KiB | 5.25 MiB/s, done.\n",
            "Resolving deltas:   0% (0/797)   \rResolving deltas:   1% (13/797)   \rResolving deltas:  10% (83/797)   \rResolving deltas:  15% (120/797)   \rResolving deltas:  16% (134/797)   \rResolving deltas:  18% (145/797)   \rResolving deltas:  19% (154/797)   \rResolving deltas:  20% (161/797)   \rResolving deltas:  21% (172/797)   \rResolving deltas:  25% (202/797)   \rResolving deltas:  26% (214/797)   \rResolving deltas:  29% (236/797)   \rResolving deltas:  31% (249/797)   \rResolving deltas:  32% (257/797)   \rResolving deltas:  33% (265/797)   \rResolving deltas:  44% (351/797)   \rResolving deltas:  46% (367/797)   \rResolving deltas:  49% (397/797)   \rResolving deltas:  52% (416/797)   \rResolving deltas:  53% (428/797)   \rResolving deltas:  57% (462/797)   \rResolving deltas:  58% (464/797)   \rResolving deltas:  59% (471/797)   \rResolving deltas:  60% (484/797)   \rResolving deltas:  61% (487/797)   \rResolving deltas:  71% (573/797)   \rResolving deltas:  72% (578/797)   \rResolving deltas:  73% (583/797)   \rResolving deltas:  74% (591/797)   \rResolving deltas:  75% (604/797)   \rResolving deltas:  76% (606/797)   \rResolving deltas:  77% (621/797)   \rResolving deltas:  78% (625/797)   \rResolving deltas:  81% (647/797)   \rResolving deltas:  82% (659/797)   \rResolving deltas:  84% (674/797)   \rResolving deltas:  85% (683/797)   \rResolving deltas:  96% (773/797)   \rResolving deltas:  97% (774/797)   \rResolving deltas:  98% (783/797)   \rResolving deltas: 100% (797/797)   \rResolving deltas: 100% (797/797), done.\n"
          ],
          "name": "stdout"
        }
      ]
    },
    {
      "metadata": {
        "id": "S_JIU9YDrl5L",
        "colab_type": "code",
        "colab": {}
      },
      "cell_type": "code",
      "source": [
        "#!git clone https://github.com/NVIDIA/apex.git\n",
        "#!python apex/setup.py install  \n",
        "#!pip install pytorch-pretrained-bert\n",
        "import pytorch_pretrained_bert"
      ],
      "execution_count": 0,
      "outputs": []
    },
    {
      "metadata": {
        "id": "InVJlrLVkEyj",
        "colab_type": "code",
        "colab": {
          "base_uri": "https://localhost:8080/",
          "height": 34
        },
        "outputId": "b057d113-acae-4f20-e9ff-8b75ae570960"
      },
      "cell_type": "code",
      "source": [
        "pytorch_pretrained_bert.__version__"
      ],
      "execution_count": 12,
      "outputs": [
        {
          "output_type": "execute_result",
          "data": {
            "text/plain": [
              "'0.4.0'"
            ]
          },
          "metadata": {
            "tags": []
          },
          "execution_count": 12
        }
      ]
    },
    {
      "metadata": {
        "id": "sOfhXNgbkNQD",
        "colab_type": "code",
        "colab": {
          "base_uri": "https://localhost:8080/",
          "height": 544
        },
        "outputId": "36a6bc56-f908-4e09-8d1f-035bf39153bf"
      },
      "cell_type": "code",
      "source": [
        ""
      ],
      "execution_count": 7,
      "outputs": [
        {
          "output_type": "stream",
          "text": [
            "fatal: destination path 'apex' already exists and is not an empty directory.\n",
            "torch.__version__  =  0.4.1\n",
            "running install\n",
            "running bdist_egg\n",
            "running egg_info\n",
            "writing apex.egg-info/PKG-INFO\n",
            "writing dependency_links to apex.egg-info/dependency_links.txt\n",
            "writing top-level names to apex.egg-info/top_level.txt\n",
            "reading manifest file 'apex.egg-info/SOURCES.txt'\n",
            "writing manifest file 'apex.egg-info/SOURCES.txt'\n",
            "installing library code to build/bdist.linux-x86_64/egg\n",
            "running install_lib\n",
            "warning: install_lib: 'build/lib' does not exist -- no Python modules to install\n",
            "\n",
            "creating build/bdist.linux-x86_64/egg\n",
            "creating build/bdist.linux-x86_64/egg/EGG-INFO\n",
            "copying apex.egg-info/PKG-INFO -> build/bdist.linux-x86_64/egg/EGG-INFO\n",
            "copying apex.egg-info/SOURCES.txt -> build/bdist.linux-x86_64/egg/EGG-INFO\n",
            "copying apex.egg-info/dependency_links.txt -> build/bdist.linux-x86_64/egg/EGG-INFO\n",
            "copying apex.egg-info/top_level.txt -> build/bdist.linux-x86_64/egg/EGG-INFO\n",
            "zip_safe flag not set; analyzing archive contents...\n",
            "creating 'dist/apex-0.1-py3.6.egg' and adding 'build/bdist.linux-x86_64/egg' to it\n",
            "removing 'build/bdist.linux-x86_64/egg' (and everything under it)\n",
            "Processing apex-0.1-py3.6.egg\n",
            "Removing /usr/local/lib/python3.6/dist-packages/apex-0.1-py3.6.egg\n",
            "Copying apex-0.1-py3.6.egg to /usr/local/lib/python3.6/dist-packages\n",
            "apex 0.1 is already the active version in easy-install.pth\n",
            "\n",
            "Installed /usr/local/lib/python3.6/dist-packages/apex-0.1-py3.6.egg\n",
            "Processing dependencies for apex==0.1\n",
            "Finished processing dependencies for apex==0.1\n"
          ],
          "name": "stdout"
        }
      ]
    },
    {
      "metadata": {
        "id": "87uTUrYwrYfr",
        "colab_type": "code",
        "colab": {}
      },
      "cell_type": "code",
      "source": [
        ""
      ],
      "execution_count": 0,
      "outputs": []
    }
  ]
}