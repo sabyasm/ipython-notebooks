{
  "nbformat": 4,
  "nbformat_minor": 0,
  "metadata": {
    "colab": {
      "name": "Pursuit-of-Happiness.ipynb",
      "version": "0.3.2",
      "provenance": [],
      "include_colab_link": true
    },
    "kernelspec": {
      "name": "python3",
      "display_name": "Python 3"
    },
    "accelerator": "GPU"
  },
  "cells": [
    {
      "cell_type": "markdown",
      "metadata": {
        "id": "view-in-github",
        "colab_type": "text"
      },
      "source": [
        "<a href=\"https://colab.research.google.com/github/sabyasm/ipython-notebooks/blob/master/Pursuit_of_Happiness.ipynb\" target=\"_parent\"><img src=\"https://colab.research.google.com/assets/colab-badge.svg\" alt=\"Open In Colab\"/></a>"
      ]
    },
    {
      "metadata": {
        "id": "wCau82xzPNLy",
        "colab_type": "code",
        "outputId": "c629bc8a-3554-488b-a9ce-ac1b7a15d701",
        "colab": {
          "base_uri": "https://localhost:8080/",
          "height": 136
        }
      },
      "cell_type": "code",
      "source": [
        "!pip install -U mlens"
      ],
      "execution_count": 1,
      "outputs": [
        {
          "output_type": "stream",
          "text": [
            "Collecting mlens\n",
            "\u001b[?25l  Downloading https://files.pythonhosted.org/packages/0b/f7/c04bda423ac93ddb54bc4c3a21c79c9a24bc83844efc30dc4c11c289e894/mlens-0.2.3-py2.py3-none-any.whl (227kB)\n",
            "\u001b[K    100% |████████████████████████████████| 235kB 7.6MB/s \n",
            "\u001b[?25hRequirement already satisfied, skipping upgrade: scipy>=0.17 in /usr/local/lib/python3.6/dist-packages (from mlens) (0.19.1)\n",
            "Requirement already satisfied, skipping upgrade: numpy>=1.11 in /usr/local/lib/python3.6/dist-packages (from mlens) (1.14.6)\n",
            "Installing collected packages: mlens\n",
            "Successfully installed mlens-0.2.3\n"
          ],
          "name": "stdout"
        }
      ]
    },
    {
      "metadata": {
        "id": "4b9vqmGLmpoC",
        "colab_type": "code",
        "colab": {
          "base_uri": "https://localhost:8080/",
          "height": 34
        },
        "outputId": "44392098-4205-48c2-d778-bfe725e7403c"
      },
      "cell_type": "code",
      "source": [
        "import warnings\n",
        "warnings.filterwarnings('ignore')\n",
        "import numpy as np\n",
        "import pandas as pd\n",
        "from pandas import DataFrame\n",
        "from sklearn.metrics import accuracy_score\n",
        "import xgboost as xgb\n",
        "\n",
        "from mlens.metrics import make_scorer\n",
        "accuracy_scorer = make_scorer(accuracy_score, greater_is_better=True)\n",
        "\n",
        "\n",
        "from mlens.ensemble import SuperLearner\n",
        "from mlens.model_selection import Evaluator\n",
        "\n",
        "\n",
        "# A host of Scikit-learn models\n",
        "from sklearn.svm import SVC, LinearSVC\n",
        "from sklearn.naive_bayes import GaussianNB, MultinomialNB\n",
        "from sklearn.ensemble import RandomForestClassifier, GradientBoostingClassifier\n",
        "from sklearn.linear_model import LogisticRegression\n",
        "from sklearn.neighbors import KNeighborsClassifier\n",
        "from sklearn.neural_network import MLPClassifier\n",
        "from sklearn.kernel_approximation import Nystroem\n",
        "from sklearn.kernel_approximation import RBFSampler\n",
        "from sklearn.pipeline import make_pipeline\n",
        "from scipy.stats import randint\n"
      ],
      "execution_count": 2,
      "outputs": [
        {
          "output_type": "stream",
          "text": [
            "[MLENS] backend: threading\n"
          ],
          "name": "stderr"
        }
      ]
    },
    {
      "metadata": {
        "id": "YVxMX7hGMmhJ",
        "colab_type": "text"
      },
      "cell_type": "markdown",
      "source": [
        "# **Download Feature Data stored in pickle format**"
      ]
    },
    {
      "metadata": {
        "colab_type": "code",
        "id": "46DAn-ZrMXyb",
        "colab": {}
      },
      "cell_type": "code",
      "source": [
        "!pip install -U -q PyDrive\n",
        "\n",
        "from pydrive.auth import GoogleAuth\n",
        "from pydrive.drive import GoogleDrive\n",
        "from google.colab import auth\n",
        "from oauth2client.client import GoogleCredentials\n",
        "\n",
        "# 1. Authenticate and create the PyDrive client.\n",
        "auth.authenticate_user()\n",
        "gauth = GoogleAuth()\n",
        "gauth.credentials = GoogleCredentials.get_application_default()\n",
        "drive = GoogleDrive(gauth)"
      ],
      "execution_count": 0,
      "outputs": []
    },
    {
      "metadata": {
        "id": "4obHKh1rMujS",
        "colab_type": "code",
        "colab": {}
      },
      "cell_type": "code",
      "source": [
        "download = drive.CreateFile({'id': '1KvpsAYprIzDISjY3pIltj8rTjhkBmq5C'})\n",
        "download.GetContentFile('features.pkl')\n",
        "\n",
        "#https://drive.google.com/open?id=1KvpsAYprIzDISjY3pIltj8rTjhkBmq5C"
      ],
      "execution_count": 0,
      "outputs": []
    },
    {
      "metadata": {
        "id": "9gWa3ZOqM97K",
        "colab_type": "code",
        "colab": {}
      },
      "cell_type": "code",
      "source": [
        "# Assuming pickle feats are already downloaded\n",
        "import pickle\n",
        "file = open('features.pkl', 'rb')\n",
        "labels = [[],[]]\n",
        "train_features = pickle.load(file)\n",
        "test_features = pickle.load(file)\n",
        "labels[0] = pickle.load(file)\n",
        "labels[1] = pickle.load(file)\n",
        "uid = pickle.load(file)\n",
        "file.close()"
      ],
      "execution_count": 0,
      "outputs": []
    },
    {
      "metadata": {
        "id": "Wvx7kGjimy6R",
        "colab_type": "code",
        "colab": {}
      },
      "cell_type": "code",
      "source": [
        "xtrain, xtest, ytrain, ytest = train_features, test_features, np.array(labels[0]), np.array(labels[1])"
      ],
      "execution_count": 0,
      "outputs": []
    },
    {
      "metadata": {
        "id": "RmSIV015oBbE",
        "colab_type": "code",
        "outputId": "d0c7d3ff-9112-498c-e1a6-8ed71fdd81fb",
        "colab": {
          "base_uri": "https://localhost:8080/",
          "height": 221
        }
      },
      "cell_type": "code",
      "source": [
        "#0.77 :'(\n",
        "\n",
        "seed = 2017\n",
        "np.random.seed(seed)\n",
        "ensemble = SuperLearner(scorer=accuracy_score, random_state=seed,verbose=2)\n",
        "\n",
        "# Build the first layer\n",
        "ensemble.add([RandomForestClassifier(random_state=seed), LogisticRegression(C=1),GradientBoostingClassifier(n_estimators=100, random_state=seed),MLPClassifier((80, 10), early_stopping=False, random_state=seed),GaussianNB()])\n",
        "\n",
        "# Build the second layer\n",
        "ensemble.add([LogisticRegression(), SVC(),xgb.XGBClassifier(silent=True, n_estimators=120, max_depth=7)])\n",
        "\n",
        "# Attach the final meta estimator\n",
        "ensemble.add_meta(RandomForestClassifier(random_state=seed))\n",
        "\n",
        "# --- Use ---\n",
        "\n",
        "# Fit ensemble\n",
        "ensemble.fit(xtrain, ytrain)\n",
        "\n",
        "# Predict\n",
        "preds = ensemble.predict(xtest)"
      ],
      "execution_count": 0,
      "outputs": [
        {
          "output_type": "stream",
          "text": [
            "\n",
            "Fitting 3 layers\n",
            "Processing layer-1             done | 00:43:21\n",
            "Processing layer-2             done | 00:00:01\n",
            "Processing layer-3             done | 00:00:00\n",
            "Fit complete                        | 00:43:22\n",
            "\n",
            "Predicting 3 layers\n",
            "Processing layer-1             done | 00:00:00\n",
            "Processing layer-2             done | 00:00:00\n",
            "Processing layer-3             done | 00:00:00\n",
            "Predict complete                    | 00:00:01\n"
          ],
          "name": "stdout"
        }
      ]
    },
    {
      "metadata": {
        "id": "Yq_sssI8PU-b",
        "colab_type": "text"
      },
      "cell_type": "markdown",
      "source": [
        "\n",
        "\n",
        "```\n",
        "Fit data:\n",
        "                                       score-m  score-s    ft-m   ft-s  pt-m  pt-s\n",
        "layer-1  gaussiannb                       0.70     0.00    1.55   0.16  1.03  0.10\n",
        "layer-1  gradientboostingclassifier       0.76     0.01  998.43   1.68  0.18  0.00\n",
        "layer-1  logisticregression               0.77     0.00   17.32   0.01  0.12  0.00\n",
        "layer-1  mlpclassifier                    0.76     0.00  213.45  38.07  0.51  0.14\n",
        "layer-1  randomforestclassifier           0.70     0.00    6.49   0.01  0.20  0.01\n",
        "layer-2  logisticregression               0.77     0.01    0.00   0.00  0.00  0.00\n",
        "layer-2  svc                              0.77     0.00    0.17   0.00  0.14  0.01\n",
        "layer-2  xgbclassifier                    0.77     0.00    0.17   0.03  0.01  0.00\n",
        "```\n",
        "\n",
        "\n"
      ]
    },
    {
      "metadata": {
        "id": "6i-P8CS1K3BN",
        "colab_type": "code",
        "outputId": "d63a9ee1-e605-4f2f-ef8c-4e2839ef5398",
        "colab": {
          "base_uri": "https://localhost:8080/",
          "height": 2094
        }
      },
      "cell_type": "code",
      "source": [
        "# 01 - ensemble\n",
        "import xgboost as xgb\n",
        "seed = 2017\n",
        "np.random.seed(seed)\n",
        "ensemble = SuperLearner(scorer=accuracy_score, random_state=seed,verbose=2)\n",
        "\n",
        "# Build the first layer\n",
        "ensemble.add([\n",
        "              RandomForestClassifier(random_state=seed,n_jobs=-1), \n",
        "              RandomForestClassifier(random_state=seed,n_estimators=100,n_jobs=-1), #0.74\n",
        "              LogisticRegression(C=1), #.77 ~ 0.759\n",
        "              #GradientBoostingClassifier(n_estimators=100, random_state=seed),\n",
        "              MLPClassifier((256, 256, 64,8), early_stopping=True, random_state=seed,verbose=True), #0.76 overall 74.5\n",
        "              MLPClassifier((100, 10), early_stopping=True, random_state=seed,verbose=True) ,#only 0.75 overall 0.754\n",
        "              GaussianNB() #0.704\n",
        "              #xgb.XGBClassifier(silent=True, n_estimators=120, max_depth=7) #28 min 76 acuracy\n",
        "             ])\n",
        "\n",
        "# Build the second layer\n",
        "ensemble.add([\n",
        "              LogisticRegression(),\n",
        "              SVC(),\n",
        "              xgb.XGBClassifier(silent=True, n_estimators=120, max_depth=7)\n",
        "              ])\n",
        "      \n",
        "# Attach the final meta estimator\n",
        "ensemble.add_meta(RandomForestClassifier(random_state=seed))\n",
        "\n",
        "# --- Use ---\n",
        "\n",
        "# Fit ensemble\n",
        "ensemble.fit(xtrain, ytrain)\n",
        "\n",
        "# Predict\n",
        "preds = ensemble.predict(xtest)\n",
        "\n",
        "print(\"Fit data:\\n%r\" % ensemble.data)\n",
        "print(\"Prediction score: %.3f\" % accuracy_score(preds, ytest))"
      ],
      "execution_count": 28,
      "outputs": [
        {
          "output_type": "stream",
          "text": [
            "\n",
            "Fitting 3 layers\n",
            "Processing layer-1             Iteration 1, loss = 0.62138745\n",
            "Validation score: 0.758621\n",
            "Iteration 1, loss = 0.58180038\n",
            "Validation score: 0.737069\n",
            "Iteration 2, loss = 0.54419475\n",
            "Validation score: 0.762931\n",
            "Iteration 3, loss = 0.46816738\n",
            "Validation score: 0.750000\n",
            "Iteration 2, loss = 0.48609276\n",
            "Validation score: 0.788793\n",
            "Iteration 4, loss = 0.41903247\n",
            "Validation score: 0.754310\n",
            "Iteration 5, loss = 0.35800397\n",
            "Validation score: 0.737069\n",
            "Validation score did not improve more than tol=0.000100 for two consecutive epochs. Stopping.\n",
            "Iteration 3, loss = 0.42604524\n",
            "Validation score: 0.778017\n",
            "Iteration 1, loss = 0.62204598\n",
            "Validation score: 0.724138\n",
            "Iteration 2, loss = 0.53052635\n",
            "Validation score: 0.767241\n",
            "Iteration 4, loss = 0.37323962\n",
            "Validation score: 0.767241\n",
            "Iteration 3, loss = 0.47464669\n",
            "Validation score: 0.771552\n",
            "Iteration 4, loss = 0.44177533\n",
            "Validation score: 0.788793\n",
            "Iteration 5, loss = 0.30374164\n",
            "Validation score: 0.721983\n",
            "Validation score did not improve more than tol=0.000100 for two consecutive epochs. Stopping.\n",
            "Iteration 5, loss = 0.38167239\n",
            "Validation score: 0.801724\n",
            "Iteration 1, loss = 0.61780935\n",
            "Validation score: 0.760776\n",
            "Iteration 6, loss = 0.33114594\n",
            "Validation score: 0.767241\n",
            "Iteration 2, loss = 0.50146429\n",
            "Validation score: 0.765086\n",
            "Iteration 7, loss = 0.28607287\n",
            "Validation score: 0.784483\n",
            "Iteration 3, loss = 0.46646768\n",
            "Validation score: 0.767241\n",
            "Iteration 4, loss = 0.44332624\n",
            "Iteration 8, loss = 0.22577970\n",
            "Validation score: 0.790948\n",
            "Validation score: 0.788793\n",
            "Validation score did not improve more than tol=0.000100 for two consecutive epochs. Stopping.\n",
            "Iteration 1, loss = 0.68212067\n",
            "Validation score: 0.698276\n",
            "Iteration 5, loss = 0.40586843\n",
            "Validation score: 0.784483\n",
            "Iteration 2, loss = 0.55699326\n",
            "Validation score: 0.737069\n",
            "Iteration 3, loss = 0.49453227\n",
            "Validation score: 0.758621\n",
            "Iteration 6, loss = 0.37654456\n",
            "Validation score: 0.784483\n",
            "Iteration 4, loss = 0.47094122\n",
            "Validation score: 0.775862\n",
            "Iteration 5, loss = 0.44139211\n",
            "Validation score: 0.771552\n",
            "Iteration 7, loss = 0.34743853\n",
            "Validation score: 0.784483\n",
            "Validation score did not improve more than tol=0.000100 for two consecutive epochs. Stopping.\n",
            "Iteration 6, loss = 0.41785981\n",
            "Validation score: 0.775862\n",
            "Iteration 1, loss = 0.69980286\n",
            "Validation score: 0.732759\n",
            "Iteration 7, loss = 0.39496328\n",
            "Validation score: 0.780172\n",
            "Iteration 2, loss = 0.57570082\n",
            "Validation score: 0.767241\n",
            "Iteration 3, loss = 0.51258368\n",
            "Iteration 8, loss = 0.37445581\n",
            "Validation score: 0.775862Validation score: 0.758621\n",
            "\n",
            "Iteration 9, loss = 0.35384024\n",
            "Validation score: 0.788793\n",
            "Iteration 4, loss = 0.48060597\n",
            "Validation score: 0.754310\n",
            "Iteration 10, loss = 0.32854307\n",
            "Validation score: 0.771552\n",
            "Iteration 5, loss = 0.45313215\n",
            "Validation score: 0.758621\n",
            "Validation score did not improve more than tol=0.000100 for two consecutive epochs. Stopping.\n",
            "Iteration 11, loss = 0.31349047\n",
            "Validation score: 0.780172\n",
            "Iteration 12, loss = 0.28641476\n",
            "Validation score: 0.771552\n",
            "Validation score did not improve more than tol=0.000100 for two consecutive epochs. Stopping.\n",
            "done | 00:05:09\n",
            "Processing layer-2             "
          ],
          "name": "stdout"
        },
        {
          "output_type": "stream",
          "text": [
            "/usr/local/lib/python3.6/dist-packages/sklearn/preprocessing/label.py:151: DeprecationWarning: The truth value of an empty array is ambiguous. Returning False, but in future this will result in an error. Use `array.size > 0` to check that an array is not empty.\n",
            "  if diff:\n",
            "/usr/local/lib/python3.6/dist-packages/sklearn/preprocessing/label.py:151: DeprecationWarning: The truth value of an empty array is ambiguous. Returning False, but in future this will result in an error. Use `array.size > 0` to check that an array is not empty.\n",
            "  if diff:\n"
          ],
          "name": "stderr"
        },
        {
          "output_type": "stream",
          "text": [
            "done | 00:00:01\n",
            "Processing layer-3             done | 00:00:00\n",
            "Fit complete                        | 00:05:11\n",
            "\n",
            "Predicting 3 layers\n",
            "Processing layer-1             done | 00:00:01\n",
            "Processing layer-2             done | 00:00:00\n",
            "Processing layer-3             done | 00:00:00\n"
          ],
          "name": "stdout"
        },
        {
          "output_type": "stream",
          "text": [
            "/usr/local/lib/python3.6/dist-packages/sklearn/preprocessing/label.py:151: DeprecationWarning: The truth value of an empty array is ambiguous. Returning False, but in future this will result in an error. Use `array.size > 0` to check that an array is not empty.\n",
            "  if diff:\n"
          ],
          "name": "stderr"
        },
        {
          "output_type": "stream",
          "text": [
            "Predict complete                    | 00:00:01\n",
            "Fit data:\n",
            "                                     score-m  score-s   ft-m   ft-s  pt-m  pt-s\n",
            "layer-1  gaussiannb                     0.70     0.00   1.22   0.32  0.89  0.07\n",
            "layer-1  logisticregression             0.77     0.00  18.54   0.12  0.11  0.00\n",
            "layer-1  mlpclassifier-1                0.76     0.01  59.00  12.47  1.66  0.01\n",
            "layer-1  mlpclassifier-2                0.75     0.02  34.19  14.28  0.76  0.03\n",
            "layer-1  randomforestclassifier-1       0.70     0.00   4.13   0.00  0.27  0.06\n",
            "layer-1  randomforestclassifier-2       0.74     0.01  39.99   0.26  0.42  0.01\n",
            "layer-2  logisticregression             0.77     0.00   0.01   0.00  0.00  0.00\n",
            "layer-2  svc                            0.75     0.02   0.21   0.00  0.13  0.00\n",
            "layer-2  xgbclassifier                  0.75     0.00   0.21   0.03  0.01  0.00\n",
            "\n",
            "Prediction score: 0.772\n"
          ],
          "name": "stdout"
        }
      ]
    },
    {
      "metadata": {
        "id": "bR03dvTAnstd",
        "colab_type": "code",
        "outputId": "121e57ea-a954-4fed-cb4d-567e285cb929",
        "colab": {
          "base_uri": "https://localhost:8080/",
          "height": 34
        }
      },
      "cell_type": "code",
      "source": [
        "print(\"Prediction score: %.3f\" % accuracy_score(preds, ytest))"
      ],
      "execution_count": 0,
      "outputs": [
        {
          "output_type": "stream",
          "text": [
            "Prediction score: 0.780\n"
          ],
          "name": "stdout"
        }
      ]
    },
    {
      "metadata": {
        "id": "6ih1yvQxJ33B",
        "colab_type": "code",
        "colab": {}
      },
      "cell_type": "code",
      "source": [
        "model_name=\"ensemble_0783\"\n",
        "ts = pd.DataFrame(\n",
        "{'Unique ID': uid,\n",
        " 'label': preds\n",
        "})\n",
        "ts.to_csv(model_name+\".csv\",index=False)"
      ],
      "execution_count": 0,
      "outputs": []
    },
    {
      "metadata": {
        "id": "vsbI6ZDkPyTj",
        "colab_type": "code",
        "colab": {}
      },
      "cell_type": "code",
      "source": [
        "from google.colab import files\n",
        "files.download(model_name+\".csv\") "
      ],
      "execution_count": 0,
      "outputs": []
    },
    {
      "metadata": {
        "id": "UuCYExO_CFJn",
        "colab_type": "code",
        "colab": {}
      },
      "cell_type": "code",
      "source": [
        "#added deep layer to see if its better than 0.783\n",
        "seed = 2017\n",
        "np.random.seed(seed)\n",
        "\n",
        "from mlens.ensemble import SequentialEnsemble\n",
        "\n",
        "ensemble = SequentialEnsemble()\n",
        "\n",
        "# The initial layer is a blended layer, same as a layer in the BlendEnsemble\n",
        "ensemble.add('blend',\n",
        "             [LogisticRegression(C=1), RandomForestClassifier(random_state=seed, n_jobs=-1),MLPClassifier((80, 10), early_stopping=False, random_state=seed),GradientBoostingClassifier(n_estimators=100, random_state=seed),\n",
        "             MLPClassifier((256, 256, 64,8), early_stopping=True, random_state=seed,verbose=True)])\n",
        "\n",
        "# The second layer is a stacked layer, same as a layer of the SuperLearner\n",
        "ensemble.add('stack', \n",
        "             [LogisticRegression(C=1), RandomForestClassifier(random_state=seed, n_jobs=-1),MLPClassifier((80, 10), early_stopping=False, random_state=seed),GradientBoostingClassifier(n_estimators=100, random_state=seed)])\n",
        "\n",
        "# The third layer is a subsembled layer, same as a layer of the Subsemble\n",
        "ensemble.add('subsemble', [LogisticRegression(C=1), SVC(),RandomForestClassifier(random_state=seed), xgb.XGBClassifier(silent=True, n_estimators=120, max_depth=7),GaussianNB()])\n",
        "\n",
        "# The meta estimator is added as in any other ensemble\n",
        "ensemble.add_meta(MLPClassifier((80, 10), early_stopping=False, random_state=seed))\n",
        "\n",
        "# Fit ensemble\n",
        "ensemble.fit(xtrain, ytrain)\n",
        "\n",
        "# Predict\n",
        "preds = ensemble.predict(xtest)"
      ],
      "execution_count": 0,
      "outputs": []
    },
    {
      "metadata": {
        "id": "YqixCSgl5IKL",
        "colab_type": "code",
        "outputId": "68dbbe86-97fa-44b0-8dba-9b9ac95aada7",
        "colab": {
          "base_uri": "https://localhost:8080/",
          "height": 241
        }
      },
      "cell_type": "code",
      "source": [
        "#0.783\n",
        "from mlens.ensemble import SequentialEnsemble\n",
        "\n",
        "ensemble = SequentialEnsemble()\n",
        "\n",
        "# The initial layer is a blended layer, same as a layer in the BlendEnsemble\n",
        "ensemble.add('blend',\n",
        "             [LogisticRegression(C=1), RandomForestClassifier(random_state=seed, n_jobs=-1),MLPClassifier((80, 10), early_stopping=False, random_state=seed),GradientBoostingClassifier(n_estimators=100, random_state=seed)])\n",
        "\n",
        "# The second layer is a stacked layer, same as a layer of the SuperLearner\n",
        "ensemble.add('stack', \n",
        "             [LogisticRegression(C=1), RandomForestClassifier(random_state=seed, n_jobs=-1),MLPClassifier((80, 10), early_stopping=False, random_state=seed),GradientBoostingClassifier(n_estimators=100, random_state=seed)])\n",
        "\n",
        "# The third layer is a subsembled layer, same as a layer of the Subsemble\n",
        "ensemble.add('subsemble', [LogisticRegression(C=1), SVC(), xgb.XGBClassifier(silent=True, n_estimators=120, max_depth=7),GaussianNB(),MLPClassifier((80, 10), early_stopping=False, random_state=seed)])\n",
        "\n",
        "# The meta estimator is added as in any other ensemble\n",
        "ensemble.add_meta(RandomForestClassifier(random_state=seed))\n",
        "\n",
        "# Fit ensemble\n",
        "ensemble.fit(xtrain, ytrain)\n",
        "\n",
        "# Predict\n",
        "preds = ensemble.predict(xtest)"
      ],
      "execution_count": 0,
      "outputs": [
        {
          "output_type": "stream",
          "text": [
            "/usr/local/lib/python3.6/dist-packages/sklearn/preprocessing/label.py:151: DeprecationWarning: The truth value of an empty array is ambiguous. Returning False, but in future this will result in an error. Use `array.size > 0` to check that an array is not empty.\n",
            "  if diff:\n",
            "/usr/local/lib/python3.6/dist-packages/sklearn/preprocessing/label.py:151: DeprecationWarning: The truth value of an empty array is ambiguous. Returning False, but in future this will result in an error. Use `array.size > 0` to check that an array is not empty.\n",
            "  if diff:\n",
            "/usr/local/lib/python3.6/dist-packages/sklearn/preprocessing/label.py:151: DeprecationWarning: The truth value of an empty array is ambiguous. Returning False, but in future this will result in an error. Use `array.size > 0` to check that an array is not empty.\n",
            "  if diff:\n",
            "/usr/local/lib/python3.6/dist-packages/sklearn/preprocessing/label.py:151: DeprecationWarning: The truth value of an empty array is ambiguous. Returning False, but in future this will result in an error. Use `array.size > 0` to check that an array is not empty.\n",
            "  if diff:\n",
            "/usr/local/lib/python3.6/dist-packages/sklearn/preprocessing/label.py:151: DeprecationWarning: The truth value of an empty array is ambiguous. Returning False, but in future this will result in an error. Use `array.size > 0` to check that an array is not empty.\n",
            "  if diff:\n",
            "/usr/local/lib/python3.6/dist-packages/sklearn/preprocessing/label.py:151: DeprecationWarning: The truth value of an empty array is ambiguous. Returning False, but in future this will result in an error. Use `array.size > 0` to check that an array is not empty.\n",
            "  if diff:\n"
          ],
          "name": "stderr"
        }
      ]
    },
    {
      "metadata": {
        "id": "3WF8ky7Ka-TV",
        "colab_type": "code",
        "outputId": "0a3d110d-2f00-4880-ae3b-3b2aeff17224",
        "colab": {
          "base_uri": "https://localhost:8080/",
          "height": 241
        }
      },
      "cell_type": "code",
      "source": [
        "#0.783 -produced twice\n",
        "from mlens.ensemble import SequentialEnsemble\n",
        "\n",
        "ensemble = SequentialEnsemble()\n",
        "\n",
        "# The initial layer is a blended layer, same as a layer in the BlendEnsemble\n",
        "ensemble.add('blend',\n",
        "             [LogisticRegression(C=1), RandomForestClassifier(random_state=seed, n_jobs=-1),MLPClassifier((80, 10), early_stopping=False, random_state=seed),\n",
        "             GradientBoostingClassifier(n_estimators=100, random_state=seed)\n",
        "             ])\n",
        "\n",
        "# The second layer is a stacked layer, same as a layer of the SuperLearner\n",
        "ensemble.add('stack', \n",
        "             [LogisticRegression(C=1), RandomForestClassifier(random_state=seed, n_jobs=-1),MLPClassifier((80, 10), early_stopping=False, random_state=seed)])\n",
        "\n",
        "# The third layer is a subsembled layer, same as a layer of the Subsemble\n",
        "ensemble.add('subsemble', [SVC(), xgb.XGBClassifier(silent=True, n_estimators=120, max_depth=7),GaussianNB()])\n",
        "\n",
        "# The meta estimator is added as in any other ensemble\n",
        "ensemble.add_meta(RandomForestClassifier(random_state=seed))\n",
        "\n",
        "# Fit ensemble\n",
        "ensemble.fit(xtrain, ytrain)\n",
        "\n",
        "# Predict\n",
        "preds = ensemble.predict(xtest)"
      ],
      "execution_count": 12,
      "outputs": [
        {
          "output_type": "stream",
          "text": [
            "/usr/local/lib/python3.6/dist-packages/sklearn/preprocessing/label.py:151: DeprecationWarning: The truth value of an empty array is ambiguous. Returning False, but in future this will result in an error. Use `array.size > 0` to check that an array is not empty.\n",
            "  if diff:\n",
            "/usr/local/lib/python3.6/dist-packages/sklearn/preprocessing/label.py:151: DeprecationWarning: The truth value of an empty array is ambiguous. Returning False, but in future this will result in an error. Use `array.size > 0` to check that an array is not empty.\n",
            "  if diff:\n",
            "/usr/local/lib/python3.6/dist-packages/sklearn/preprocessing/label.py:151: DeprecationWarning: The truth value of an empty array is ambiguous. Returning False, but in future this will result in an error. Use `array.size > 0` to check that an array is not empty.\n",
            "  if diff:\n",
            "/usr/local/lib/python3.6/dist-packages/sklearn/preprocessing/label.py:151: DeprecationWarning: The truth value of an empty array is ambiguous. Returning False, but in future this will result in an error. Use `array.size > 0` to check that an array is not empty.\n",
            "  if diff:\n",
            "/usr/local/lib/python3.6/dist-packages/sklearn/preprocessing/label.py:151: DeprecationWarning: The truth value of an empty array is ambiguous. Returning False, but in future this will result in an error. Use `array.size > 0` to check that an array is not empty.\n",
            "  if diff:\n",
            "/usr/local/lib/python3.6/dist-packages/sklearn/preprocessing/label.py:151: DeprecationWarning: The truth value of an empty array is ambiguous. Returning False, but in future this will result in an error. Use `array.size > 0` to check that an array is not empty.\n",
            "  if diff:\n"
          ],
          "name": "stderr"
        }
      ]
    },
    {
      "metadata": {
        "id": "iOQHLXT5j4f8",
        "colab_type": "code",
        "outputId": "fcb540dd-29dc-41da-c57e-bd81f100b670",
        "colab": {
          "base_uri": "https://localhost:8080/",
          "height": 34
        }
      },
      "cell_type": "code",
      "source": [
        "print(\"Prediction score: %.3f\" % accuracy_score(preds, ytest))"
      ],
      "execution_count": 13,
      "outputs": [
        {
          "output_type": "stream",
          "text": [
            "Prediction score: 0.783\n"
          ],
          "name": "stdout"
        }
      ]
    },
    {
      "metadata": {
        "id": "Xn7LzLklpcfP",
        "colab_type": "code",
        "outputId": "1622ad2e-1342-4c95-8463-d8a4e2c5ba2b",
        "colab": {
          "base_uri": "https://localhost:8080/",
          "height": 289
        }
      },
      "cell_type": "code",
      "source": [
        "print(\"Fit data:\\n%r\" % ensemble.data)"
      ],
      "execution_count": 14,
      "outputs": [
        {
          "output_type": "stream",
          "text": [
            "Fit data:\n",
            "                                             ft-m  ft-s  pt-m  pt-s\n",
            "layer-1  gradientboostingclassifier  0    1302.43  0.00  0.18  0.00\n",
            "layer-1  logisticregression          0      19.00  0.00  0.10  0.00\n",
            "layer-1  mlpclassifier               0     164.79  0.00  0.67  0.00\n",
            "layer-1  randomforestclassifier      0       4.15  0.00  0.25  0.00\n",
            "layer-2  logisticregression          0       0.00  0.00  0.00  0.00\n",
            "layer-2  mlpclassifier               0       1.04  0.38  0.00  0.00\n",
            "layer-2  randomforestclassifier      0       0.12  0.00  0.10  0.00\n",
            "layer-3  gaussiannb                  0       0.00  0.00  0.00  0.00\n",
            "layer-3  gaussiannb                  1       0.00  0.00  0.00  0.00\n",
            "layer-3  svc                         0       0.01  0.00  0.02  0.01\n",
            "layer-3  svc                         1       0.01  0.00  0.01  0.00\n",
            "layer-3  xgbclassifier               0       0.03  0.00  0.00  0.00\n",
            "layer-3  xgbclassifier               1       0.03  0.00  0.00  0.00\n",
            "\n"
          ],
          "name": "stdout"
        }
      ]
    },
    {
      "metadata": {
        "id": "9GEcFNNfgq-d",
        "colab_type": "code",
        "outputId": "bd1637e6-b976-4250-cdae-a6681966b248",
        "colab": {
          "base_uri": "https://localhost:8080/",
          "height": 1411
        }
      },
      "cell_type": "code",
      "source": [
        "# giant one\n",
        "from mlens.ensemble import SequentialEnsemble\n",
        "\n",
        "ensemble = SequentialEnsemble()\n",
        "\n",
        "\n",
        "# The initial layer is a blended layer, same as a layer in the BlendEnsemble\n",
        "ensemble.add('blend', [\n",
        "              RandomForestClassifier(random_state=seed,n_jobs=-1), \n",
        "              RandomForestClassifier(random_state=seed,n_estimators=100,n_jobs=-1), #0.74\n",
        "              LogisticRegression(C=1), #.77 ~ 0.759\n",
        "              MLPClassifier((256, 256, 64,8), early_stopping=True, random_state=seed,verbose=True), #0.76 overall 74.5\n",
        "              GradientBoostingClassifier(n_estimators=100, random_state=seed),\n",
        "              MLPClassifier((256, 256, 64,8), early_stopping=True, random_state=seed,verbose=True), #0.76 overall 74.5\n",
        "              MLPClassifier((100, 10), early_stopping=True, random_state=seed,verbose=True) ,#only 0.75 overall 0.754\n",
        "              GaussianNB(), #0.704\n",
        "              xgb.XGBClassifier(silent=True, n_estimators=120, max_depth=7) #28 min 76 acuracy\n",
        "])\n",
        "\n",
        "# The second layer is a stacked layer, same as a layer of the SuperLearner\n",
        "ensemble.add('stack', \n",
        "             [\n",
        "              RandomForestClassifier(random_state=seed,n_jobs=-1), \n",
        "              RandomForestClassifier(random_state=seed,n_estimators=100,n_jobs=-1), #0.74\n",
        "              LogisticRegression(C=1), #.77 ~ 0.759\n",
        "              GradientBoostingClassifier(n_estimators=100, random_state=seed),\n",
        "              MLPClassifier((256, 256, 64,8), early_stopping=True, random_state=seed,verbose=True), #0.76 overall 74.5\n",
        "              MLPClassifier((100, 10), early_stopping=True, random_state=seed,verbose=True) ,#only 0.75 overall 0.754\n",
        "              GaussianNB(), #0.704\n",
        "              xgb.XGBClassifier(silent=True, n_estimators=120, max_depth=7) #28 min 76 acuracy\n",
        "             ])\n",
        "\n",
        "# The third layer is a subsembled layer, same as a layer of the Subsemble\n",
        "ensemble.add('subsemble', [SVC(), xgb.XGBClassifier(silent=True, n_estimators=120, max_depth=7)])\n",
        "\n",
        "# The meta estimator is added as in any other ensemble\n",
        "ensemble.add_meta(RandomForestClassifier(random_state=seed))\n",
        "\n",
        "# Fit ensemble\n",
        "ensemble.fit(xtrain, ytrain)\n",
        "\n",
        "# Predict\n",
        "preds = ensemble.predict(xtest)\n",
        "\n",
        "\n",
        "print(\"Fit data:\\n%r\" % ensemble.data)\n",
        "print(\"Prediction score: %.3f\" % accuracy_score(preds, ytest))"
      ],
      "execution_count": 0,
      "outputs": [
        {
          "output_type": "stream",
          "text": [
            "Iteration 1, loss = 0.58180038\n",
            "Validation score: 0.737069\n",
            "Iteration 2, loss = 0.48609276\n",
            "Validation score: 0.788793\n",
            "Iteration 3, loss = 0.42604524\n",
            "Validation score: 0.778017\n",
            "Iteration 4, loss = 0.37323962\n",
            "Validation score: 0.767241\n",
            "Iteration 5, loss = 0.30374164\n",
            "Validation score: 0.721983\n",
            "Validation score did not improve more than tol=0.000100 for two consecutive epochs. Stopping.\n",
            "Iteration 1, loss = 0.62204598\n",
            "Validation score: 0.724138\n",
            "Iteration 2, loss = 0.53052635\n",
            "Validation score: 0.767241\n",
            "Iteration 3, loss = 0.47464669\n",
            "Validation score: 0.771552\n",
            "Iteration 4, loss = 0.44177533\n",
            "Validation score: 0.788793\n",
            "Iteration 5, loss = 0.38167239\n",
            "Validation score: 0.801724\n",
            "Iteration 6, loss = 0.33114594\n",
            "Validation score: 0.767241\n",
            "Iteration 7, loss = 0.28607287\n",
            "Validation score: 0.784483\n",
            "Iteration 8, loss = 0.22577970\n",
            "Validation score: 0.788793\n",
            "Validation score did not improve more than tol=0.000100 for two consecutive epochs. Stopping.\n",
            "Iteration 1, loss = 0.58180038\n",
            "Validation score: 0.737069\n",
            "Iteration 2, loss = 0.48609276\n",
            "Validation score: 0.788793\n",
            "Iteration 3, loss = 0.42604524\n",
            "Validation score: 0.778017\n",
            "Iteration 4, loss = 0.37323962\n",
            "Validation score: 0.767241\n",
            "Iteration 5, loss = 0.30374164\n",
            "Validation score: 0.721983\n",
            "Validation score did not improve more than tol=0.000100 for two consecutive epochs. Stopping.\n",
            "Iteration 1, loss = 0.62204598\n",
            "Validation score: 0.724138\n",
            "Iteration 2, loss = 0.53052635\n",
            "Validation score: 0.767241\n",
            "Iteration 3, loss = 0.47464669\n",
            "Validation score: 0.771552\n",
            "Iteration 4, loss = 0.44177533\n",
            "Validation score: 0.788793\n",
            "Iteration 5, loss = 0.38167239\n",
            "Validation score: 0.801724\n",
            "Iteration 6, loss = 0.33114594\n",
            "Validation score: 0.767241\n",
            "Iteration 7, loss = 0.28607287\n",
            "Validation score: 0.784483\n",
            "Iteration 8, loss = 0.22577970\n",
            "Validation score: 0.788793\n",
            "Validation score did not improve more than tol=0.000100 for two consecutive epochs. Stopping.\n",
            "Iteration 1, loss = 0.61780935\n",
            "Validation score: 0.760776\n",
            "Iteration 2, loss = 0.50146429\n",
            "Validation score: 0.765086\n",
            "Iteration 3, loss = 0.46646768\n",
            "Validation score: 0.767241\n",
            "Iteration 4, loss = 0.44332624\n",
            "Validation score: 0.790948\n",
            "Iteration 5, loss = 0.40586843\n",
            "Validation score: 0.784483\n",
            "Iteration 6, loss = 0.37654456\n",
            "Validation score: 0.784483\n",
            "Iteration 7, loss = 0.34743853\n",
            "Validation score: 0.784483\n",
            "Validation score did not improve more than tol=0.000100 for two consecutive epochs. Stopping.\n",
            "Iteration 1, loss = 0.69980286\n",
            "Validation score: 0.732759\n",
            "Iteration 2, loss = 0.57570082\n",
            "Validation score: 0.767241\n",
            "Iteration 3, loss = 0.51258368\n",
            "Validation score: 0.758621\n",
            "Iteration 4, loss = 0.48060597\n",
            "Validation score: 0.754310\n",
            "Iteration 5, loss = 0.45313215\n",
            "Validation score: 0.758621\n",
            "Validation score did not improve more than tol=0.000100 for two consecutive epochs. Stopping.\n"
          ],
          "name": "stdout"
        }
      ]
    },
    {
      "metadata": {
        "id": "l5nnrj8vwihT",
        "colab_type": "code",
        "colab": {
          "base_uri": "https://localhost:8080/",
          "height": 34
        },
        "outputId": "d3c12c03-5f26-47af-afed-973990520569"
      },
      "cell_type": "code",
      "source": [
        "sklearn.__version__"
      ],
      "execution_count": 17,
      "outputs": [
        {
          "output_type": "execute_result",
          "data": {
            "text/plain": [
              "'0.19.2'"
            ]
          },
          "metadata": {
            "tags": []
          },
          "execution_count": 17
        }
      ]
    },
    {
      "metadata": {
        "id": "clHeZEFwzGec",
        "colab_type": "code",
        "colab": {}
      },
      "cell_type": "code",
      "source": [
        "import sklearn"
      ],
      "execution_count": 0,
      "outputs": []
    },
    {
      "metadata": {
        "id": "2Zv_f-BCzMb8",
        "colab_type": "code",
        "colab": {}
      },
      "cell_type": "code",
      "source": [
        "model_name=\"ensemble_xgb_759\"\n",
        "ts = pd.DataFrame(\n",
        "{'Unique ID': uid,\n",
        " 'label': preds\n",
        "})\n",
        "ts.to_csv(model_name+\".csv\",index=False)\n",
        "from google.colab import files\n",
        "files.download(model_name+\".csv\") "
      ],
      "execution_count": 0,
      "outputs": []
    },
    {
      "metadata": {
        "id": "fPIO-sMU-PD0",
        "colab_type": "code",
        "colab": {
          "base_uri": "https://localhost:8080/",
          "height": 1244
        },
        "outputId": "62e70dd2-b5c3-4953-94a3-7fe1569ff3f2"
      },
      "cell_type": "code",
      "source": [
        "#0.765\n",
        "from mlens.ensemble import SequentialEnsemble\n",
        "\n",
        "\n",
        "seed = 2017\n",
        "np.random.seed(seed)\n",
        "\n",
        "ensemble = SequentialEnsemble()\n",
        "\n",
        "# The initial layer is a blended layer, same as a layer in the BlendEnsemble\n",
        "ensemble.add('blend',\n",
        "             [LogisticRegression(C=1), RandomForestClassifier(random_state=seed, n_jobs=-1),MLPClassifier((80, 10), early_stopping=True, random_state=seed),\n",
        "              #GradientBoostingClassifier(n_estimators=100, random_state=seed),\n",
        "              MLPClassifier((256, 256, 64,8), early_stopping=True, random_state=seed,verbose=True)\n",
        "             ])\n",
        "\n",
        "# The second layer is a stacked layer, same as a layer of the SuperLearner\n",
        "ensemble.add('stack', \n",
        "             [LogisticRegression(C=1), RandomForestClassifier(random_state=seed, n_jobs=-1),MLPClassifier((256, 256, 64,8), early_stopping=True, random_state=seed,verbose=True)])\n",
        "\n",
        "# The third layer is a subsembled layer, same as a layer of the Subsemble\n",
        "ensemble.add('subsemble', [SVC(), xgb.XGBClassifier(silent=True, n_estimators=120, max_depth=7),GaussianNB()])\n",
        "\n",
        "# The meta estimator is added as in any other ensemble\n",
        "ensemble.add_meta(RandomForestClassifier(random_state=seed))\n",
        "\n",
        "# Fit ensemble\n",
        "ensemble.fit(xtrain, ytrain)\n",
        "\n",
        "# Predict\n",
        "preds = ensemble.predict(xtest)"
      ],
      "execution_count": 11,
      "outputs": [
        {
          "output_type": "stream",
          "text": [
            "Iteration 1, loss = 0.58180038\n",
            "Validation score: 0.737069\n",
            "Iteration 2, loss = 0.48609276\n",
            "Validation score: 0.788793\n",
            "Iteration 3, loss = 0.42604524\n",
            "Validation score: 0.778017\n",
            "Iteration 1, loss = 0.62204598\n",
            "Validation score: 0.724138\n",
            "Iteration 4, loss = 0.37323962\n",
            "Validation score: 0.767241\n",
            "Iteration 2, loss = 0.53052635\n",
            "Validation score: 0.767241\n",
            "Iteration 3, loss = 0.47464669\n",
            "Validation score: 0.771552\n",
            "Iteration 5, loss = 0.30374164\n",
            "Validation score: 0.721983\n",
            "Validation score did not improve more than tol=0.000100 for two consecutive epochs. Stopping.\n",
            "Iteration 4, loss = 0.44177533\n",
            "Validation score: 0.788793\n",
            "Iteration 5, loss = 0.38167239\n",
            "Validation score: 0.801724\n",
            "Iteration 6, loss = 0.33114594\n",
            "Validation score: 0.767241\n",
            "Iteration 7, loss = 0.28607287\n",
            "Validation score: 0.784483\n",
            "Iteration 8, loss = 0.22577970\n",
            "Validation score: 0.788793\n",
            "Validation score did not improve more than tol=0.000100 for two consecutive epochs. Stopping.\n",
            "Iteration 1, loss = 0.57363811\n",
            "Validation score: 0.646552\n",
            "Iteration 1, loss = 0.56228291\n",
            "Validation score: 0.715517\n",
            "Iteration 2, loss = 0.51115804\n",
            "Validation score: 0.767241\n",
            "Iteration 3, loss = 0.48589674\n",
            "Validation score: 0.732759\n",
            "Iteration 2, loss = 0.50136283\n",
            "Validation score: 0.702586\n",
            "Iteration 4, loss = 0.47598878\n",
            "Validation score: 0.732759\n",
            "Iteration 5, loss = 0.47844963\n",
            "Validation score: 0.732759\n",
            "Validation score did not improve more than tol=0.000100 for two consecutive epochs. Stopping.\n",
            "Iteration 3, loss = 0.50036155\n",
            "Validation score: 0.698276\n",
            "Iteration 1, loss = 0.60685523\n",
            "Validation score: 0.646552\n",
            "Iteration 2, loss = 0.55678738\n",
            "Validation score: 0.758621\n",
            "Iteration 4, loss = 0.49109272\n",
            "Validation score: 0.711207\n",
            "Validation score did not improve more than tol=0.000100 for two consecutive epochs. Stopping.\n",
            "Iteration 3, loss = 0.53344141\n",
            "Validation score: 0.758621\n",
            "Iteration 4, loss = 0.52743732\n",
            "Validation score: 0.758621\n",
            "Iteration 5, loss = 0.52320162\n",
            "Validation score: 0.758621\n",
            "Validation score did not improve more than tol=0.000100 for two consecutive epochs. Stopping.\n"
          ],
          "name": "stdout"
        },
        {
          "output_type": "stream",
          "text": [
            "/usr/local/lib/python3.6/dist-packages/sklearn/preprocessing/label.py:151: DeprecationWarning: The truth value of an empty array is ambiguous. Returning False, but in future this will result in an error. Use `array.size > 0` to check that an array is not empty.\n",
            "  if diff:\n",
            "/usr/local/lib/python3.6/dist-packages/sklearn/preprocessing/label.py:151: DeprecationWarning: The truth value of an empty array is ambiguous. Returning False, but in future this will result in an error. Use `array.size > 0` to check that an array is not empty.\n",
            "  if diff:\n",
            "/usr/local/lib/python3.6/dist-packages/sklearn/preprocessing/label.py:151: DeprecationWarning: The truth value of an empty array is ambiguous. Returning False, but in future this will result in an error. Use `array.size > 0` to check that an array is not empty.\n",
            "  if diff:\n",
            "/usr/local/lib/python3.6/dist-packages/sklearn/preprocessing/label.py:151: DeprecationWarning: The truth value of an empty array is ambiguous. Returning False, but in future this will result in an error. Use `array.size > 0` to check that an array is not empty.\n",
            "  if diff:\n",
            "/usr/local/lib/python3.6/dist-packages/sklearn/preprocessing/label.py:151: DeprecationWarning: The truth value of an empty array is ambiguous. Returning False, but in future this will result in an error. Use `array.size > 0` to check that an array is not empty.\n",
            "  if diff:\n",
            "/usr/local/lib/python3.6/dist-packages/sklearn/preprocessing/label.py:151: DeprecationWarning: The truth value of an empty array is ambiguous. Returning False, but in future this will result in an error. Use `array.size > 0` to check that an array is not empty.\n",
            "  if diff:\n"
          ],
          "name": "stderr"
        }
      ]
    },
    {
      "metadata": {
        "id": "YuePuWHIE38g",
        "colab_type": "code",
        "colab": {
          "base_uri": "https://localhost:8080/",
          "height": 306
        },
        "outputId": "bcfe49a4-a881-433c-cf08-857ebc4db5de"
      },
      "cell_type": "code",
      "source": [
        "\n",
        "# Predict\n",
        "#preds = ensemble.predict(xtest)\n",
        "\n",
        "\n",
        "print(\"Fit data:\\n%r\" % ensemble.data)\n",
        "print(\"Prediction score: %.3f\" % accuracy_score(preds, ytest))"
      ],
      "execution_count": 17,
      "outputs": [
        {
          "output_type": "stream",
          "text": [
            "Fit data:\n",
            "                                             ft-m  ft-s  pt-m  pt-s\n",
            "layer-1  gradientboostingclassifier  0    1302.43  0.00  0.18  0.00\n",
            "layer-1  logisticregression          0      19.00  0.00  0.10  0.00\n",
            "layer-1  mlpclassifier               0     164.79  0.00  0.67  0.00\n",
            "layer-1  randomforestclassifier      0       4.15  0.00  0.25  0.00\n",
            "layer-2  logisticregression          0       0.00  0.00  0.00  0.00\n",
            "layer-2  mlpclassifier               0       1.04  0.38  0.00  0.00\n",
            "layer-2  randomforestclassifier      0       0.12  0.00  0.10  0.00\n",
            "layer-3  gaussiannb                  0       0.00  0.00  0.00  0.00\n",
            "layer-3  gaussiannb                  1       0.00  0.00  0.00  0.00\n",
            "layer-3  svc                         0       0.01  0.00  0.02  0.01\n",
            "layer-3  svc                         1       0.01  0.00  0.01  0.00\n",
            "layer-3  xgbclassifier               0       0.03  0.00  0.00  0.00\n",
            "layer-3  xgbclassifier               1       0.03  0.00  0.00  0.00\n",
            "\n",
            "Prediction score: 0.783\n"
          ],
          "name": "stdout"
        }
      ]
    },
    {
      "metadata": {
        "id": "tWku5xlsSF7A",
        "colab_type": "code",
        "colab": {
          "base_uri": "https://localhost:8080/",
          "height": 34
        },
        "outputId": "aa4bb5cc-db6f-456f-cb5a-1011b0df5968"
      },
      "cell_type": "code",
      "source": [
        "ensemble.model_selection"
      ],
      "execution_count": 16,
      "outputs": [
        {
          "output_type": "execute_result",
          "data": {
            "text/plain": [
              "False"
            ]
          },
          "metadata": {
            "tags": []
          },
          "execution_count": 16
        }
      ]
    },
    {
      "metadata": {
        "id": "njcMT-v1gT5A",
        "colab_type": "code",
        "colab": {}
      },
      "cell_type": "code",
      "source": [
        ""
      ],
      "execution_count": 0,
      "outputs": []
    }
  ]
}