{
  "nbformat": 4,
  "nbformat_minor": 0,
  "metadata": {
    "colab": {
      "name": "sub_001_ensemble.ipynb",
      "version": "0.3.2",
      "provenance": [],
      "include_colab_link": true
    },
    "kernelspec": {
      "name": "python3",
      "display_name": "Python 3"
    },
    "accelerator": "GPU"
  },
  "cells": [
    {
      "cell_type": "markdown",
      "metadata": {
        "id": "view-in-github",
        "colab_type": "text"
      },
      "source": [
        "<a href=\"https://colab.research.google.com/github/sabyasm/ipython-notebooks/blob/master/sub_001_ensemble.ipynb\" target=\"_parent\"><img src=\"https://colab.research.google.com/assets/colab-badge.svg\" alt=\"Open In Colab\"/></a>"
      ]
    },
    {
      "metadata": {
        "id": "wCau82xzPNLy",
        "colab_type": "code",
        "outputId": "844dab4e-a9ce-4cba-fbcf-91dba716bde0",
        "colab": {
          "base_uri": "https://localhost:8080/",
          "height": 68
        }
      },
      "cell_type": "code",
      "source": [
        "!pip install -U mlens"
      ],
      "execution_count": 1,
      "outputs": [
        {
          "output_type": "stream",
          "text": [
            "Requirement already up-to-date: mlens in /usr/local/lib/python3.6/dist-packages (0.2.3)\n",
            "Requirement already satisfied, skipping upgrade: scipy>=0.17 in /usr/local/lib/python3.6/dist-packages (from mlens) (0.19.1)\n",
            "Requirement already satisfied, skipping upgrade: numpy>=1.11 in /usr/local/lib/python3.6/dist-packages (from mlens) (1.14.6)\n"
          ],
          "name": "stdout"
        }
      ]
    },
    {
      "metadata": {
        "id": "4b9vqmGLmpoC",
        "colab_type": "code",
        "colab": {}
      },
      "cell_type": "code",
      "source": [
        "import warnings\n",
        "warnings.filterwarnings('ignore')\n",
        "import numpy as np\n",
        "import pandas as pd\n",
        "from pandas import DataFrame\n",
        "from sklearn.metrics import accuracy_score\n",
        "import xgboost as xgb\n",
        "\n",
        "from mlens.metrics import make_scorer\n",
        "accuracy_scorer = make_scorer(accuracy_score, greater_is_better=True)\n",
        "\n",
        "\n",
        "from mlens.ensemble import SuperLearner\n",
        "from mlens.model_selection import Evaluator\n",
        "from mlens.ensemble import SequentialEnsemble\n",
        "\n",
        "\n",
        "\n",
        "# A host of Scikit-learn models\n",
        "from sklearn.svm import SVC, LinearSVC\n",
        "from sklearn.naive_bayes import GaussianNB, MultinomialNB\n",
        "from sklearn.ensemble import RandomForestClassifier, GradientBoostingClassifier\n",
        "from sklearn.linear_model import LogisticRegression\n",
        "from sklearn.neighbors import KNeighborsClassifier\n",
        "from sklearn.neural_network import MLPClassifier\n",
        "from sklearn.kernel_approximation import Nystroem\n",
        "from sklearn.kernel_approximation import RBFSampler\n",
        "from sklearn.pipeline import make_pipeline\n",
        "from scipy.stats import randint\n"
      ],
      "execution_count": 0,
      "outputs": []
    },
    {
      "metadata": {
        "id": "YVxMX7hGMmhJ",
        "colab_type": "text"
      },
      "cell_type": "markdown",
      "source": [
        "# **Download Feature Data stored in pickle format**"
      ]
    },
    {
      "metadata": {
        "colab_type": "code",
        "id": "46DAn-ZrMXyb",
        "colab": {}
      },
      "cell_type": "code",
      "source": [
        "!pip install -U -q PyDrive\n",
        "\n",
        "from pydrive.auth import GoogleAuth\n",
        "from pydrive.drive import GoogleDrive\n",
        "from google.colab import auth\n",
        "from oauth2client.client import GoogleCredentials\n",
        "\n",
        "# 1. Authenticate and create the PyDrive client.\n",
        "auth.authenticate_user()\n",
        "gauth = GoogleAuth()\n",
        "gauth.credentials = GoogleCredentials.get_application_default()\n",
        "drive = GoogleDrive(gauth)"
      ],
      "execution_count": 0,
      "outputs": []
    },
    {
      "metadata": {
        "id": "4obHKh1rMujS",
        "colab_type": "code",
        "colab": {}
      },
      "cell_type": "code",
      "source": [
        "download = drive.CreateFile({'id': '1KvpsAYprIzDISjY3pIltj8rTjhkBmq5C'})\n",
        "download.GetContentFile('features.pkl')\n",
        "\n",
        "#https://drive.google.com/open?id=1KvpsAYprIzDISjY3pIltj8rTjhkBmq5C"
      ],
      "execution_count": 0,
      "outputs": []
    },
    {
      "metadata": {
        "id": "9gWa3ZOqM97K",
        "colab_type": "code",
        "colab": {}
      },
      "cell_type": "code",
      "source": [
        "# Assuming pickle feats are already downloaded\n",
        "import pickle\n",
        "file = open('features.pkl', 'rb')\n",
        "labels = [[],[]]\n",
        "train_features = pickle.load(file)\n",
        "test_features = pickle.load(file)\n",
        "labels[0] = pickle.load(file)\n",
        "labels[1] = pickle.load(file)\n",
        "uid = pickle.load(file)\n",
        "file.close()"
      ],
      "execution_count": 0,
      "outputs": []
    },
    {
      "metadata": {
        "id": "Wvx7kGjimy6R",
        "colab_type": "code",
        "colab": {}
      },
      "cell_type": "code",
      "source": [
        "xtrain, xtest, ytrain, ytest = train_features, test_features, np.array(labels[0]), np.array(labels[1])"
      ],
      "execution_count": 0,
      "outputs": []
    },
    {
      "metadata": {
        "id": "3WF8ky7Ka-TV",
        "colab_type": "code",
        "outputId": "3674d493-d72c-4729-9888-a61fab29f775",
        "colab": {
          "base_uri": "https://localhost:8080/",
          "height": 306
        }
      },
      "cell_type": "code",
      "source": [
        "#0.783 -produced 3 times now\n",
        "seed = 2017\n",
        "np.random.seed(seed)\n",
        "warnings.filterwarnings(\"ignore\", category=DeprecationWarning) \n",
        "\n",
        "ensemble = SequentialEnsemble()\n",
        "\n",
        "# The initial layer is a blended layer, same as a layer in the BlendEnsemble\n",
        "ensemble.add('blend',\n",
        "             [LogisticRegression(C=1), RandomForestClassifier(random_state=seed, n_jobs=-1),MLPClassifier((80, 10), early_stopping=False, random_state=seed),\n",
        "             GradientBoostingClassifier(n_estimators=100, random_state=seed)\n",
        "             ])\n",
        "\n",
        "# The second layer is a stacked layer, same as a layer of the SuperLearner\n",
        "ensemble.add('stack', \n",
        "             [LogisticRegression(C=1), RandomForestClassifier(random_state=seed, n_jobs=-1),MLPClassifier((80, 10), early_stopping=False, random_state=seed)])\n",
        "\n",
        "# The third layer is a subsembled layer, same as a layer of the Subsemble\n",
        "ensemble.add('subsemble', [SVC(), xgb.XGBClassifier(silent=True, n_estimators=120, max_depth=7),GaussianNB()])\n",
        "\n",
        "# The meta estimator is added as in any other ensemble\n",
        "ensemble.add_meta(RandomForestClassifier(random_state=seed))\n",
        "\n",
        "# Fit ensemble\n",
        "ensemble.fit(xtrain, ytrain)\n",
        "\n",
        "# Predict\n",
        "preds = ensemble.predict(xtest)\n",
        "print(\"Fit data:\\n%r\" % ensemble.data)"
      ],
      "execution_count": 8,
      "outputs": [
        {
          "output_type": "stream",
          "text": [
            "Fit data:\n",
            "                                             ft-m  ft-s  pt-m  pt-s\n",
            "layer-1  gradientboostingclassifier  0    1115.98  0.00  0.20  0.00\n",
            "layer-1  logisticregression          0      27.05  0.00  0.18  0.00\n",
            "layer-1  mlpclassifier               0     201.72  0.00  0.69  0.00\n",
            "layer-1  randomforestclassifier      0       3.35  0.00  0.23  0.00\n",
            "layer-2  logisticregression          0       0.00  0.00  0.00  0.00\n",
            "layer-2  mlpclassifier               0       0.87  0.34  0.01  0.00\n",
            "layer-2  randomforestclassifier      0       0.12  0.00  0.10  0.00\n",
            "layer-3  gaussiannb                  0       0.00  0.00  0.00  0.00\n",
            "layer-3  gaussiannb                  1       0.00  0.00  0.00  0.00\n",
            "layer-3  svc                         0       0.01  0.00  0.01  0.00\n",
            "layer-3  svc                         1       0.01  0.00  0.02  0.00\n",
            "layer-3  xgbclassifier               0       0.03  0.00  0.00  0.00\n",
            "layer-3  xgbclassifier               1       0.03  0.00  0.00  0.00\n",
            "\n",
            "Prediction score: 0.783\n"
          ],
          "name": "stdout"
        }
      ]
    },
    {
      "metadata": {
        "id": "iOQHLXT5j4f8",
        "colab_type": "code",
        "outputId": "668b5041-d3f7-41d4-b8e9-f80aa8096e12",
        "colab": {
          "base_uri": "https://localhost:8080/",
          "height": 34
        }
      },
      "cell_type": "code",
      "source": [
        "print(\"Prediction score: %.5f\" % accuracy_score(preds, ytest))"
      ],
      "execution_count": 10,
      "outputs": [
        {
          "output_type": "stream",
          "text": [
            "Prediction score: 0.78295\n"
          ],
          "name": "stdout"
        }
      ]
    },
    {
      "metadata": {
        "id": "2Zv_f-BCzMb8",
        "colab_type": "code",
        "colab": {}
      },
      "cell_type": "code",
      "source": [
        "model_name=\"sub_001_ensemble_783\"\n",
        "ts = pd.DataFrame(\n",
        "{'Unique ID': uid,\n",
        " 'label': preds\n",
        "})\n",
        "ts.to_csv(model_name+\".csv\",index=False)\n",
        "from google.colab import files\n",
        "files.download(model_name+\".csv\") "
      ],
      "execution_count": 0,
      "outputs": []
    }
  ]
}