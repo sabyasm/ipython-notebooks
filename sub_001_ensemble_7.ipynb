{
  "nbformat": 4,
  "nbformat_minor": 0,
  "metadata": {
    "colab": {
      "name": "sub_001_ensemble_78381.ipynb",
      "version": "0.3.2",
      "provenance": [],
      "collapsed_sections": [],
      "include_colab_link": true
    },
    "kernelspec": {
      "name": "python3",
      "display_name": "Python 3"
    },
    "accelerator": "GPU"
  },
  "cells": [
    {
      "cell_type": "markdown",
      "metadata": {
        "id": "view-in-github",
        "colab_type": "text"
      },
      "source": [
        "<a href=\"https://colab.research.google.com/github/sabyasm/ipython-notebooks/blob/master/sub_001_ensemble_78381.ipynb\" target=\"_parent\"><img src=\"https://colab.research.google.com/assets/colab-badge.svg\" alt=\"Open In Colab\"/></a>"
      ]
    },
    {
      "metadata": {
        "id": "wCau82xzPNLy",
        "colab_type": "code",
        "outputId": "d673e592-7eb0-4090-fd6b-f2d517d728b9",
        "colab": {
          "base_uri": "https://localhost:8080/",
          "height": 131
        }
      },
      "cell_type": "code",
      "source": [
        "!pip install -U mlens"
      ],
      "execution_count": 1,
      "outputs": [
        {
          "output_type": "stream",
          "text": [
            "Collecting mlens\n",
            "\u001b[?25l  Downloading https://files.pythonhosted.org/packages/0b/f7/c04bda423ac93ddb54bc4c3a21c79c9a24bc83844efc30dc4c11c289e894/mlens-0.2.3-py2.py3-none-any.whl (227kB)\n",
            "\u001b[K    100% |████████████████████████████████| 235kB 5.9MB/s \n",
            "\u001b[?25hRequirement already satisfied, skipping upgrade: scipy>=0.17 in /usr/local/lib/python3.6/dist-packages (from mlens) (0.19.1)\n",
            "Requirement already satisfied, skipping upgrade: numpy>=1.11 in /usr/local/lib/python3.6/dist-packages (from mlens) (1.14.6)\n",
            "Installing collected packages: mlens\n",
            "Successfully installed mlens-0.2.3\n"
          ],
          "name": "stdout"
        }
      ]
    },
    {
      "metadata": {
        "id": "4b9vqmGLmpoC",
        "colab_type": "code",
        "colab": {
          "base_uri": "https://localhost:8080/",
          "height": 33
        },
        "outputId": "bcc7130e-a8a7-48d5-fc01-98cd7b1c2aed"
      },
      "cell_type": "code",
      "source": [
        "import warnings\n",
        "warnings.filterwarnings('ignore')\n",
        "import numpy as np\n",
        "import pandas as pd\n",
        "from pandas import DataFrame\n",
        "from sklearn.metrics import accuracy_score\n",
        "import xgboost as xgb\n",
        "\n",
        "from mlens.metrics import make_scorer\n",
        "accuracy_scorer = make_scorer(accuracy_score, greater_is_better=True)\n",
        "\n",
        "\n",
        "from mlens.ensemble import SuperLearner\n",
        "from mlens.model_selection import Evaluator\n",
        "from mlens.ensemble import SequentialEnsemble\n",
        "\n",
        "\n",
        "\n",
        "# A host of Scikit-learn models\n",
        "from sklearn.svm import SVC, LinearSVC\n",
        "from sklearn.naive_bayes import GaussianNB, MultinomialNB\n",
        "from sklearn.ensemble import RandomForestClassifier, GradientBoostingClassifier\n",
        "from sklearn.linear_model import LogisticRegression\n",
        "from sklearn.neighbors import KNeighborsClassifier\n",
        "from sklearn.neural_network import MLPClassifier\n",
        "from sklearn.kernel_approximation import Nystroem\n",
        "from sklearn.kernel_approximation import RBFSampler\n",
        "from sklearn.pipeline import make_pipeline\n",
        "from scipy.stats import randint\n"
      ],
      "execution_count": 2,
      "outputs": [
        {
          "output_type": "stream",
          "text": [
            "[MLENS] backend: threading\n"
          ],
          "name": "stderr"
        }
      ]
    },
    {
      "metadata": {
        "id": "YVxMX7hGMmhJ",
        "colab_type": "text"
      },
      "cell_type": "markdown",
      "source": [
        "# **Download Feature Data stored in pickle format**"
      ]
    },
    {
      "metadata": {
        "colab_type": "code",
        "id": "46DAn-ZrMXyb",
        "colab": {}
      },
      "cell_type": "code",
      "source": [
        "!pip install -U -q PyDrive\n",
        "\n",
        "from pydrive.auth import GoogleAuth\n",
        "from pydrive.drive import GoogleDrive\n",
        "from google.colab import auth\n",
        "from oauth2client.client import GoogleCredentials\n",
        "\n",
        "# 1. Authenticate and create the PyDrive client.\n",
        "auth.authenticate_user()\n",
        "gauth = GoogleAuth()\n",
        "gauth.credentials = GoogleCredentials.get_application_default()\n",
        "drive = GoogleDrive(gauth)"
      ],
      "execution_count": 0,
      "outputs": []
    },
    {
      "metadata": {
        "id": "4obHKh1rMujS",
        "colab_type": "code",
        "colab": {}
      },
      "cell_type": "code",
      "source": [
        "download = drive.CreateFile({'id': '1KvpsAYprIzDISjY3pIltj8rTjhkBmq5C'})\n",
        "download.GetContentFile('features.pkl')\n",
        "\n",
        "#https://drive.google.com/open?id=1KvpsAYprIzDISjY3pIltj8rTjhkBmq5C"
      ],
      "execution_count": 0,
      "outputs": []
    },
    {
      "metadata": {
        "id": "9gWa3ZOqM97K",
        "colab_type": "code",
        "colab": {}
      },
      "cell_type": "code",
      "source": [
        "# Assuming pickle feats are already downloaded\n",
        "import pickle\n",
        "file = open('features.pkl', 'rb')\n",
        "labels = [[],[]]\n",
        "train_features = pickle.load(file)\n",
        "test_features = pickle.load(file)\n",
        "labels[0] = pickle.load(file)\n",
        "labels[1] = pickle.load(file)\n",
        "uid = pickle.load(file)\n",
        "file.close()"
      ],
      "execution_count": 0,
      "outputs": []
    },
    {
      "metadata": {
        "id": "Wvx7kGjimy6R",
        "colab_type": "code",
        "colab": {}
      },
      "cell_type": "code",
      "source": [
        "xtrain, xtest, ytrain, ytest = train_features, test_features, np.array(labels[0]), np.array(labels[1])"
      ],
      "execution_count": 0,
      "outputs": []
    },
    {
      "metadata": {
        "id": "3WF8ky7Ka-TV",
        "colab_type": "code",
        "outputId": "e8217f44-f42f-4844-e3e6-8cae56f4f6ea",
        "colab": {
          "base_uri": "https://localhost:8080/",
          "height": 358
        }
      },
      "cell_type": "code",
      "source": [
        "#0.783 -produced 3 times now\n",
        "# 0.78381\n",
        "%%time\n",
        "seed = 2017\n",
        "np.random.seed(seed)\n",
        "warnings.filterwarnings(\"ignore\", category=DeprecationWarning) \n",
        "\n",
        "ensemble = SequentialEnsemble()\n",
        "\n",
        "# The initial layer is a blended layer, same as a layer in the BlendEnsemble\n",
        "ensemble.add('blend',\n",
        "             [LogisticRegression(C=1), \n",
        "              RandomForestClassifier(random_state=seed, n_jobs=-1),\n",
        "              MLPClassifier((80, 10), early_stopping=False, random_state=seed),\n",
        "              GradientBoostingClassifier(n_estimators=100, random_state=seed)\n",
        "             ])\n",
        "\n",
        "# The second layer is a stacked layer, same as a layer of the SuperLearner\n",
        "ensemble.add('stack', \n",
        "             [LogisticRegression(C=1), \n",
        "              RandomForestClassifier(random_state=seed, n_jobs=-1),\n",
        "              MLPClassifier((80, 10), early_stopping=False, random_state=seed),\n",
        "              xgb.XGBClassifier(silent=True, n_estimators=120, max_depth=7),\n",
        "             ])\n",
        "\n",
        "# The third layer is a subsembled layer, same as a layer of the Subsemble\n",
        "ensemble.add('subsemble', [SVC(), xgb.XGBClassifier(silent=True, n_estimators=120, max_depth=7),GaussianNB(),LogisticRegression(C=1)])\n",
        "\n",
        "# The meta estimator is added as in any other ensemble\n",
        "ensemble.add_meta(RandomForestClassifier(random_state=seed))\n",
        "\n",
        "# Fit ensemble\n",
        "ensemble.fit(xtrain, ytrain)\n",
        "\n",
        "# Predict\n",
        "preds = ensemble.predict(xtest)\n",
        "print(\"Fit data:\\n%r\" % ensemble.data)"
      ],
      "execution_count": 27,
      "outputs": [
        {
          "output_type": "stream",
          "text": [
            "Fit data:\n",
            "                                             ft-m  ft-s  pt-m  pt-s\n",
            "layer-1  gradientboostingclassifier  0    1226.19  0.00  0.17  0.00\n",
            "layer-1  logisticregression          0      15.69  0.00  0.07  0.00\n",
            "layer-1  mlpclassifier               0     157.05  0.00  0.63  0.00\n",
            "layer-1  randomforestclassifier      0       4.23  0.00  0.21  0.00\n",
            "layer-2  logisticregression          0       0.00  0.00  0.00  0.00\n",
            "layer-2  mlpclassifier               0       0.89  0.42  0.00  0.00\n",
            "layer-2  randomforestclassifier      0       0.12  0.01  0.10  0.00\n",
            "layer-2  xgbclassifier               0       0.06  0.00  0.00  0.00\n",
            "layer-3  gaussiannb                  0       0.00  0.00  0.00  0.00\n",
            "layer-3  gaussiannb                  1       0.00  0.00  0.00  0.00\n",
            "layer-3  logisticregression          0       0.00  0.00  0.00  0.00\n",
            "layer-3  logisticregression          1       0.00  0.00  0.00  0.00\n",
            "layer-3  svc                         0       0.01  0.00  0.01  0.00\n",
            "layer-3  svc                         1       0.01  0.00  0.01  0.00\n",
            "layer-3  xgbclassifier               0       0.03  0.00  0.00  0.00\n",
            "layer-3  xgbclassifier               1       0.03  0.00  0.00  0.00\n",
            "\n",
            "CPU times: user 1h 4min 18s, sys: 2min 34s, total: 1h 6min 53s\n",
            "Wall time: 38min 19s\n"
          ],
          "name": "stdout"
        }
      ]
    },
    {
      "metadata": {
        "id": "iOQHLXT5j4f8",
        "colab_type": "code",
        "outputId": "6779541f-7e78-4ef7-dc6e-bca9eb7cb7f2",
        "colab": {
          "base_uri": "https://localhost:8080/",
          "height": 33
        }
      },
      "cell_type": "code",
      "source": [
        "print(\"Prediction score: %.5f\" % accuracy_score(preds, ytest))"
      ],
      "execution_count": 28,
      "outputs": [
        {
          "output_type": "stream",
          "text": [
            "Prediction score: 0.78381\n"
          ],
          "name": "stdout"
        }
      ]
    },
    {
      "metadata": {
        "id": "2Zv_f-BCzMb8",
        "colab_type": "code",
        "colab": {}
      },
      "cell_type": "code",
      "source": [
        "model_name=\"sub_001_ensemble_783\"\n",
        "ts = pd.DataFrame(\n",
        "{'Unique ID': uid,\n",
        " 'label': preds\n",
        "})\n",
        "ts.to_csv(model_name+\".csv\",index=False)\n",
        "from google.colab import files\n",
        "files.download(model_name+\".csv\") "
      ],
      "execution_count": 0,
      "outputs": []
    }
  ]
}
