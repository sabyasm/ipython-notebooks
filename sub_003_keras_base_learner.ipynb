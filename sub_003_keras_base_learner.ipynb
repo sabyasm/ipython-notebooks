{
  "nbformat": 4,
  "nbformat_minor": 0,
  "metadata": {
    "colab": {
      "name": "sub_003_keras-base-learner.ipynb",
      "version": "0.3.2",
      "provenance": [],
      "collapsed_sections": [],
      "include_colab_link": true
    },
    "kernelspec": {
      "name": "python3",
      "display_name": "Python 3"
    },
    "accelerator": "GPU"
  },
  "cells": [
    {
      "cell_type": "markdown",
      "metadata": {
        "id": "view-in-github",
        "colab_type": "text"
      },
      "source": [
        "<a href=\"https://colab.research.google.com/github/sabyasm/ipython-notebooks/blob/master/sub_003_keras_base_learner.ipynb\" target=\"_parent\"><img src=\"https://colab.research.google.com/assets/colab-badge.svg\" alt=\"Open In Colab\"/></a>"
      ]
    },
    {
      "metadata": {
        "id": "4b9vqmGLmpoC",
        "colab_type": "code",
        "colab": {
          "base_uri": "https://localhost:8080/",
          "height": 33
        },
        "outputId": "7d7ea2f4-2ad2-4820-ac8c-295f0d652350"
      },
      "cell_type": "code",
      "source": [
        "import warnings\n",
        "warnings.filterwarnings('ignore')\n",
        "import numpy as np\n",
        "import pandas as pd\n",
        "from pandas import DataFrame\n",
        "from sklearn.metrics import accuracy_score\n",
        "import xgboost as xgb\n",
        "\n",
        "\n",
        "# A host of Scikit-learn models\n",
        "from sklearn.svm import SVC, LinearSVC\n",
        "from sklearn.naive_bayes import GaussianNB, MultinomialNB\n",
        "from sklearn.ensemble import RandomForestClassifier, GradientBoostingClassifier\n",
        "from sklearn.linear_model import LogisticRegression\n",
        "from sklearn.neighbors import KNeighborsClassifier\n",
        "from sklearn.neural_network import MLPClassifier\n",
        "from sklearn.kernel_approximation import Nystroem\n",
        "from sklearn.kernel_approximation import RBFSampler\n",
        "from sklearn.pipeline import make_pipeline\n",
        "from scipy.stats import randint\n",
        "\n",
        "from keras.models import Sequential\n",
        "from keras.layers.core import Dense, Activation, Dropout\n",
        "from keras.wrappers.scikit_learn import KerasClassifier\n",
        "from keras import models\n",
        "from keras import layers\n",
        "from sklearn.model_selection import cross_val_score\n",
        "from sklearn.datasets import make_classification\n",
        "from sklearn.model_selection import StratifiedKFold\n",
        "import numpy as np\n",
        "from keras.callbacks import EarlyStopping\n",
        "from sklearn.model_selection import cross_val_score\n",
        "\n",
        "\n"
      ],
      "execution_count": 1,
      "outputs": [
        {
          "output_type": "stream",
          "text": [
            "Using TensorFlow backend.\n"
          ],
          "name": "stderr"
        }
      ]
    },
    {
      "metadata": {
        "id": "YVxMX7hGMmhJ",
        "colab_type": "text"
      },
      "cell_type": "markdown",
      "source": [
        "# **Download Feature Data stored in pickle format**"
      ]
    },
    {
      "metadata": {
        "colab_type": "code",
        "id": "46DAn-ZrMXyb",
        "colab": {}
      },
      "cell_type": "code",
      "source": [
        "!pip install -U -q PyDrive\n",
        "\n",
        "from pydrive.auth import GoogleAuth\n",
        "from pydrive.drive import GoogleDrive\n",
        "from google.colab import auth\n",
        "from oauth2client.client import GoogleCredentials\n",
        "\n",
        "# 1. Authenticate and create the PyDrive client.\n",
        "auth.authenticate_user()\n",
        "gauth = GoogleAuth()\n",
        "gauth.credentials = GoogleCredentials.get_application_default()\n",
        "drive = GoogleDrive(gauth)"
      ],
      "execution_count": 0,
      "outputs": []
    },
    {
      "metadata": {
        "id": "4obHKh1rMujS",
        "colab_type": "code",
        "colab": {}
      },
      "cell_type": "code",
      "source": [
        "download = drive.CreateFile({'id': '1KvpsAYprIzDISjY3pIltj8rTjhkBmq5C'})\n",
        "download.GetContentFile('features.pkl')\n",
        "\n",
        "#https://drive.google.com/open?id=1KvpsAYprIzDISjY3pIltj8rTjhkBmq5C"
      ],
      "execution_count": 0,
      "outputs": []
    },
    {
      "metadata": {
        "id": "9gWa3ZOqM97K",
        "colab_type": "code",
        "colab": {}
      },
      "cell_type": "code",
      "source": [
        "# Assuming pickle feats are already downloaded\n",
        "import pickle\n",
        "file = open('features.pkl', 'rb')\n",
        "labels = [[],[]]\n",
        "train_features = pickle.load(file)\n",
        "test_features = pickle.load(file)\n",
        "labels[0] = pickle.load(file)\n",
        "labels[1] = pickle.load(file)\n",
        "uid = pickle.load(file)\n",
        "file.close()"
      ],
      "execution_count": 0,
      "outputs": []
    },
    {
      "metadata": {
        "id": "Wvx7kGjimy6R",
        "colab_type": "code",
        "colab": {}
      },
      "cell_type": "code",
      "source": [
        "xtrain, xtest, ytrain, ytest = train_features, test_features, np.array(labels[0]), np.array(labels[1])"
      ],
      "execution_count": 0,
      "outputs": []
    },
    {
      "metadata": {
        "id": "xZdOyG526Hjl",
        "colab_type": "code",
        "colab": {
          "base_uri": "https://localhost:8080/",
          "height": 33
        },
        "outputId": "d30e256b-0347-4e80-d54c-7c7cc639533c"
      },
      "cell_type": "code",
      "source": [
        "xtrain.shape"
      ],
      "execution_count": 7,
      "outputs": [
        {
          "output_type": "execute_result",
          "data": {
            "text/plain": [
              "(4640, 17415)"
            ]
          },
          "metadata": {
            "tags": []
          },
          "execution_count": 7
        }
      ]
    },
    {
      "metadata": {
        "id": "dOwRLsGSVQXt",
        "colab_type": "code",
        "colab": {
          "base_uri": "https://localhost:8080/",
          "height": 1902
        },
        "outputId": "d5bc83da-31fe-47c7-c601-62fa4ed569e1"
      },
      "cell_type": "code",
      "source": [
        "# Prediction score: 0.77606 ~ 76.something\n",
        "##############################################\n",
        "import numpy as np\n",
        "import tensorflow as tf\n",
        "import random as rn\n",
        "\n",
        "# The below is necessary for starting Numpy generated random numbers\n",
        "# in a well-defined initial state.\n",
        "\n",
        "np.random.seed(2017)\n",
        "\n",
        "# The below is necessary for starting core Python generated random numbers\n",
        "# in a well-defined state.\n",
        "\n",
        "rn.seed(2017)\n",
        "\n",
        "# Force TensorFlow to use single thread.\n",
        "# Multiple threads are a potential source of non-reproducible results.\n",
        "# For further details, see: https://stackoverflow.com/questions/42022950/\n",
        "\n",
        "session_conf = tf.ConfigProto(intra_op_parallelism_threads=1,\n",
        "                              inter_op_parallelism_threads=1)\n",
        "\n",
        "from keras import backend as K\n",
        "\n",
        "# The below tf.set_random_seed() will make random number generation\n",
        "# in the TensorFlow backend have a well-defined initial state.\n",
        "# For further details, see:\n",
        "# https://www.tensorflow.org/api_docs/python/tf/set_random_seed\n",
        "\n",
        "tf.set_random_seed(2017)\n",
        "\n",
        "sess = tf.Session(graph=tf.get_default_graph(), config=session_conf)\n",
        "K.set_session(sess)\n",
        "#####################################################\n",
        "\n",
        "def create_network():\n",
        "    model = Sequential()\n",
        "    model.add(Dense(1024, input_dim=17415, activation='relu'))\n",
        "    model.add(Dropout(0.5))\n",
        "    model.add(Dense(1024, activation='relu'))\n",
        "    model.add(Dropout(0.5))\n",
        "    model.add(Dense(1, activation='sigmoid')) #sigmid .76\n",
        "\n",
        "    model.compile(loss='binary_crossentropy',\n",
        "                  optimizer='adam',\n",
        "                  metrics=['accuracy'])\n",
        "    return model\n",
        "\n",
        "earlystop = EarlyStopping(monitor='val_loss', min_delta=0, patience=3, \n",
        "                              verbose=0, mode='auto')  \n",
        "# Wrap Keras model so it can be used by scikit-learn\n",
        "neural_network = KerasClassifier(build_fn=create_network, epochs=15,\n",
        "          batch_size=512,validation_split=0.1 )  \n",
        "\n",
        "kfold = StratifiedKFold(n_splits=5, shuffle=True)\n",
        "                                 \n",
        "# Evaluate neural network using three-fold cross-validation\n",
        "results = cross_val_score(neural_network, xtrain, ytrain, cv=kfold,fit_params = {'callbacks': [earlystop]})        \n",
        "\n",
        "neural_network.fit(xtrain,ytrain,verbose=0)\n",
        "y_pred = neural_network.predict(xtest)"
      ],
      "execution_count": 8,
      "outputs": [
        {
          "output_type": "stream",
          "text": [
            "Train on 3339 samples, validate on 372 samples\n",
            "Epoch 1/15\n",
            "3339/3339 [==============================] - 2s 654us/step - loss: 0.6600 - acc: 0.6493 - val_loss: 0.5722 - val_acc: 0.7715\n",
            "Epoch 2/15\n",
            "3339/3339 [==============================] - 1s 224us/step - loss: 0.5473 - acc: 0.7281 - val_loss: 0.5052 - val_acc: 0.7500\n",
            "Epoch 3/15\n",
            "3339/3339 [==============================] - 1s 209us/step - loss: 0.5070 - acc: 0.7421 - val_loss: 0.4709 - val_acc: 0.7849\n",
            "Epoch 4/15\n",
            "3339/3339 [==============================] - 1s 207us/step - loss: 0.4761 - acc: 0.7670 - val_loss: 0.4640 - val_acc: 0.7661\n",
            "Epoch 5/15\n",
            "3339/3339 [==============================] - 1s 206us/step - loss: 0.4379 - acc: 0.7928 - val_loss: 0.4776 - val_acc: 0.7984\n",
            "Epoch 6/15\n",
            "3339/3339 [==============================] - 1s 206us/step - loss: 0.4303 - acc: 0.7972 - val_loss: 0.4823 - val_acc: 0.7608\n",
            "Epoch 7/15\n",
            "3339/3339 [==============================] - 1s 208us/step - loss: 0.3868 - acc: 0.8236 - val_loss: 0.4498 - val_acc: 0.7957\n",
            "Epoch 8/15\n",
            "3339/3339 [==============================] - 1s 210us/step - loss: 0.3328 - acc: 0.8529 - val_loss: 0.4506 - val_acc: 0.7930\n",
            "Epoch 9/15\n",
            "3339/3339 [==============================] - 1s 207us/step - loss: 0.3077 - acc: 0.8694 - val_loss: 0.4593 - val_acc: 0.7930\n",
            "Epoch 10/15\n",
            "3339/3339 [==============================] - 1s 207us/step - loss: 0.2807 - acc: 0.8769 - val_loss: 0.4634 - val_acc: 0.7957\n",
            "929/929 [==============================] - 0s 125us/step\n",
            "Train on 3340 samples, validate on 372 samples\n",
            "Epoch 1/15\n",
            "3340/3340 [==============================] - 1s 433us/step - loss: 0.6517 - acc: 0.6551 - val_loss: 0.5249 - val_acc: 0.7930\n",
            "Epoch 2/15\n",
            "3340/3340 [==============================] - 1s 210us/step - loss: 0.5462 - acc: 0.7225 - val_loss: 0.4339 - val_acc: 0.8065\n",
            "Epoch 3/15\n",
            "3340/3340 [==============================] - 1s 211us/step - loss: 0.5028 - acc: 0.7455 - val_loss: 0.4320 - val_acc: 0.8145\n",
            "Epoch 4/15\n",
            "3340/3340 [==============================] - 1s 211us/step - loss: 0.4802 - acc: 0.7617 - val_loss: 0.4352 - val_acc: 0.7849\n",
            "Epoch 5/15\n",
            "3340/3340 [==============================] - 1s 210us/step - loss: 0.4435 - acc: 0.7880 - val_loss: 0.4186 - val_acc: 0.8011\n",
            "Epoch 6/15\n",
            "3340/3340 [==============================] - 1s 210us/step - loss: 0.4240 - acc: 0.8006 - val_loss: 0.4130 - val_acc: 0.8226\n",
            "Epoch 7/15\n",
            "3340/3340 [==============================] - 1s 211us/step - loss: 0.3817 - acc: 0.8251 - val_loss: 0.4016 - val_acc: 0.8280\n",
            "Epoch 8/15\n",
            "3340/3340 [==============================] - 1s 208us/step - loss: 0.3286 - acc: 0.8548 - val_loss: 0.4073 - val_acc: 0.8038\n",
            "Epoch 9/15\n",
            "3340/3340 [==============================] - 1s 207us/step - loss: 0.3046 - acc: 0.8644 - val_loss: 0.4226 - val_acc: 0.8145\n",
            "Epoch 10/15\n",
            "3340/3340 [==============================] - 1s 205us/step - loss: 0.2698 - acc: 0.8823 - val_loss: 0.4838 - val_acc: 0.7823\n",
            "928/928 [==============================] - 0s 119us/step\n",
            "Train on 3340 samples, validate on 372 samples\n",
            "Epoch 1/15\n",
            "3340/3340 [==============================] - 1s 433us/step - loss: 0.6524 - acc: 0.6641 - val_loss: 0.5507 - val_acc: 0.7688\n",
            "Epoch 2/15\n",
            "3340/3340 [==============================] - 1s 207us/step - loss: 0.5310 - acc: 0.7398 - val_loss: 0.4911 - val_acc: 0.7527\n",
            "Epoch 3/15\n",
            "3340/3340 [==============================] - 1s 206us/step - loss: 0.4966 - acc: 0.7542 - val_loss: 0.5264 - val_acc: 0.7312\n",
            "Epoch 4/15\n",
            "3340/3340 [==============================] - 1s 207us/step - loss: 0.4781 - acc: 0.7665 - val_loss: 0.4390 - val_acc: 0.8038\n",
            "Epoch 5/15\n",
            "3340/3340 [==============================] - 1s 206us/step - loss: 0.4327 - acc: 0.7916 - val_loss: 0.4290 - val_acc: 0.8091\n",
            "Epoch 6/15\n",
            "3340/3340 [==============================] - 1s 205us/step - loss: 0.4033 - acc: 0.8165 - val_loss: 0.4196 - val_acc: 0.8280\n",
            "Epoch 7/15\n",
            "3340/3340 [==============================] - 1s 207us/step - loss: 0.3607 - acc: 0.8410 - val_loss: 0.4497 - val_acc: 0.7634\n",
            "Epoch 8/15\n",
            "3340/3340 [==============================] - 1s 205us/step - loss: 0.3209 - acc: 0.8584 - val_loss: 0.4188 - val_acc: 0.8199\n",
            "Epoch 9/15\n",
            "3340/3340 [==============================] - 1s 207us/step - loss: 0.2927 - acc: 0.8746 - val_loss: 0.4546 - val_acc: 0.8199\n",
            "Epoch 10/15\n",
            "3340/3340 [==============================] - 1s 205us/step - loss: 0.2422 - acc: 0.9009 - val_loss: 0.4226 - val_acc: 0.8226\n",
            "Epoch 11/15\n",
            "3340/3340 [==============================] - 1s 206us/step - loss: 0.2118 - acc: 0.9207 - val_loss: 0.7862 - val_acc: 0.6801\n",
            "928/928 [==============================] - 0s 117us/step\n",
            "Train on 3340 samples, validate on 372 samples\n",
            "Epoch 1/15\n",
            "3340/3340 [==============================] - 1s 442us/step - loss: 0.6586 - acc: 0.6278 - val_loss: 0.5900 - val_acc: 0.7312\n",
            "Epoch 2/15\n",
            "3340/3340 [==============================] - 1s 205us/step - loss: 0.5391 - acc: 0.7287 - val_loss: 0.4864 - val_acc: 0.7446\n",
            "Epoch 3/15\n",
            "3340/3340 [==============================] - 1s 205us/step - loss: 0.5120 - acc: 0.7386 - val_loss: 0.4656 - val_acc: 0.7984\n",
            "Epoch 4/15\n",
            "3340/3340 [==============================] - 1s 207us/step - loss: 0.4740 - acc: 0.7740 - val_loss: 0.4530 - val_acc: 0.7796\n",
            "Epoch 5/15\n",
            "3340/3340 [==============================] - 1s 205us/step - loss: 0.4395 - acc: 0.7925 - val_loss: 0.5092 - val_acc: 0.7151\n",
            "Epoch 6/15\n",
            "3340/3340 [==============================] - 1s 205us/step - loss: 0.4247 - acc: 0.8015 - val_loss: 0.4695 - val_acc: 0.8011\n",
            "Epoch 7/15\n",
            "3340/3340 [==============================] - 1s 207us/step - loss: 0.3949 - acc: 0.8189 - val_loss: 0.4407 - val_acc: 0.7930\n",
            "Epoch 8/15\n",
            "3340/3340 [==============================] - 1s 208us/step - loss: 0.3723 - acc: 0.8266 - val_loss: 0.4910 - val_acc: 0.7527\n",
            "Epoch 9/15\n",
            "3340/3340 [==============================] - 1s 203us/step - loss: 0.3231 - acc: 0.8644 - val_loss: 0.4465 - val_acc: 0.8065\n",
            "Epoch 10/15\n",
            "3340/3340 [==============================] - 1s 205us/step - loss: 0.2618 - acc: 0.8976 - val_loss: 0.5048 - val_acc: 0.8091\n",
            "928/928 [==============================] - 0s 119us/step\n",
            "Train on 3341 samples, validate on 372 samples\n",
            "Epoch 1/15\n",
            "3341/3341 [==============================] - 2s 456us/step - loss: 0.6511 - acc: 0.6495 - val_loss: 0.6363 - val_acc: 0.6210\n",
            "Epoch 2/15\n",
            "3341/3341 [==============================] - 1s 208us/step - loss: 0.5515 - acc: 0.7201 - val_loss: 0.5139 - val_acc: 0.7446\n",
            "Epoch 3/15\n",
            "3341/3341 [==============================] - 1s 206us/step - loss: 0.5166 - acc: 0.7435 - val_loss: 0.5243 - val_acc: 0.7339\n",
            "Epoch 4/15\n",
            "3341/3341 [==============================] - 1s 204us/step - loss: 0.4862 - acc: 0.7626 - val_loss: 0.4983 - val_acc: 0.7419\n",
            "Epoch 5/15\n",
            "3341/3341 [==============================] - 1s 206us/step - loss: 0.4707 - acc: 0.7695 - val_loss: 0.4856 - val_acc: 0.7634\n",
            "Epoch 6/15\n",
            "3341/3341 [==============================] - 1s 207us/step - loss: 0.4338 - acc: 0.7950 - val_loss: 0.4824 - val_acc: 0.7876\n",
            "Epoch 7/15\n",
            "3341/3341 [==============================] - 1s 205us/step - loss: 0.4179 - acc: 0.7977 - val_loss: 0.4937 - val_acc: 0.7177\n",
            "Epoch 8/15\n",
            "3341/3341 [==============================] - 1s 205us/step - loss: 0.3731 - acc: 0.8354 - val_loss: 0.4889 - val_acc: 0.7339\n",
            "Epoch 9/15\n",
            "3341/3341 [==============================] - 1s 208us/step - loss: 0.3463 - acc: 0.8482 - val_loss: 0.4727 - val_acc: 0.7661\n",
            "Epoch 10/15\n",
            "3341/3341 [==============================] - 1s 205us/step - loss: 0.2856 - acc: 0.8749 - val_loss: 0.4773 - val_acc: 0.7688\n",
            "Epoch 11/15\n",
            "3341/3341 [==============================] - 1s 205us/step - loss: 0.2473 - acc: 0.9033 - val_loss: 0.5189 - val_acc: 0.7957\n",
            "Epoch 12/15\n",
            "3341/3341 [==============================] - 1s 206us/step - loss: 0.2139 - acc: 0.9183 - val_loss: 0.5328 - val_acc: 0.7554\n",
            "927/927 [==============================] - 0s 115us/step\n"
          ],
          "name": "stdout"
        }
      ]
    },
    {
      "metadata": {
        "id": "GJSXi4QADeQG",
        "colab_type": "code",
        "colab": {
          "base_uri": "https://localhost:8080/",
          "height": 33
        },
        "outputId": "e6a01e91-d171-4c14-a5a8-cebaec80957c"
      },
      "cell_type": "code",
      "source": [
        "print(results)"
      ],
      "execution_count": 9,
      "outputs": [
        {
          "output_type": "stream",
          "text": [
            "[0.77610335 0.75       0.68857759 0.75000001 0.78640778]\n"
          ],
          "name": "stdout"
        }
      ]
    },
    {
      "metadata": {
        "id": "DUc7QXPCDZon",
        "colab_type": "code",
        "colab": {
          "base_uri": "https://localhost:8080/",
          "height": 33
        },
        "outputId": "81710bdd-4957-4a35-9fef-d18bebb7023b"
      },
      "cell_type": "code",
      "source": [
        "print(\"Standardized: %.2f%% (%.2f%%)\" % (results.mean()*100, results.std()*100))"
      ],
      "execution_count": 10,
      "outputs": [
        {
          "output_type": "stream",
          "text": [
            "Standardized: 75.02% (3.40%)\n"
          ],
          "name": "stdout"
        }
      ]
    },
    {
      "metadata": {
        "id": "iMz2f0LoA6M_",
        "colab_type": "code",
        "colab": {}
      },
      "cell_type": "code",
      "source": [
        "from google.colab import files\n",
        "model_name=\"sub_002_keras-base-learner\"\n",
        "\n",
        "ts = pd.DataFrame(\n",
        "{'Unique ID': uid,\n",
        " 'label': y_pred.flatten()\n",
        "})\n",
        "ts.to_csv(model_name+\".csv\",index=False)\n",
        "files.download(model_name+\".csv\") "
      ],
      "execution_count": 0,
      "outputs": []
    },
    {
      "metadata": {
        "id": "SrEjx5Mc4UJ4",
        "colab_type": "code",
        "colab": {
          "base_uri": "https://localhost:8080/",
          "height": 33
        },
        "outputId": "43c58365-fc30-479d-d745-d6ed39925256"
      },
      "cell_type": "code",
      "source": [
        "print(\"Prediction score: %.5f\" % accuracy_score(y_pred, ytest))"
      ],
      "execution_count": 11,
      "outputs": [
        {
          "output_type": "stream",
          "text": [
            "Prediction score: 0.77606\n"
          ],
          "name": "stdout"
        }
      ]
    },
    {
      "metadata": {
        "id": "IvBN0hjTB97r",
        "colab_type": "code",
        "colab": {}
      },
      "cell_type": "code",
      "source": [
        ""
      ],
      "execution_count": 0,
      "outputs": []
    }
  ]
}