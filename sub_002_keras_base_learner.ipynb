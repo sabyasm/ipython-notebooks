{
  "nbformat": 4,
  "nbformat_minor": 0,
  "metadata": {
    "colab": {
      "name": "sub_002_keras-base-learner.ipynb",
      "version": "0.3.2",
      "provenance": [],
      "collapsed_sections": [],
      "include_colab_link": true
    },
    "kernelspec": {
      "name": "python3",
      "display_name": "Python 3"
    },
    "accelerator": "GPU"
  },
  "cells": [
    {
      "cell_type": "markdown",
      "metadata": {
        "id": "view-in-github",
        "colab_type": "text"
      },
      "source": [
        "<a href=\"https://colab.research.google.com/github/sabyasm/ipython-notebooks/blob/master/sub_002_keras_base_learner.ipynb\" target=\"_parent\"><img src=\"https://colab.research.google.com/assets/colab-badge.svg\" alt=\"Open In Colab\"/></a>"
      ]
    },
    {
      "metadata": {
        "id": "4b9vqmGLmpoC",
        "colab_type": "code",
        "colab": {}
      },
      "cell_type": "code",
      "source": [
        "import warnings\n",
        "warnings.filterwarnings('ignore')\n",
        "import numpy as np\n",
        "import pandas as pd\n",
        "from pandas import DataFrame\n",
        "from sklearn.metrics import accuracy_score\n",
        "import xgboost as xgb\n",
        "\n",
        "\n",
        "# A host of Scikit-learn models\n",
        "from sklearn.svm import SVC, LinearSVC\n",
        "from sklearn.naive_bayes import GaussianNB, MultinomialNB\n",
        "from sklearn.ensemble import RandomForestClassifier, GradientBoostingClassifier\n",
        "from sklearn.linear_model import LogisticRegression\n",
        "from sklearn.neighbors import KNeighborsClassifier\n",
        "from sklearn.neural_network import MLPClassifier\n",
        "from sklearn.kernel_approximation import Nystroem\n",
        "from sklearn.kernel_approximation import RBFSampler\n",
        "from sklearn.pipeline import make_pipeline\n",
        "from scipy.stats import randint\n",
        "\n",
        "from keras.models import Sequential\n",
        "from keras.layers.core import Dense, Activation, Dropout\n",
        "from keras.wrappers.scikit_learn import KerasClassifier\n",
        "from keras import models\n",
        "from keras import layers\n",
        "from sklearn.model_selection import cross_val_score\n",
        "from sklearn.datasets import make_classification\n",
        "from sklearn.model_selection import StratifiedKFold\n",
        "import numpy as np\n",
        "from keras.callbacks import EarlyStopping\n",
        "from sklearn.model_selection import cross_val_score\n",
        "\n",
        "\n"
      ],
      "execution_count": 0,
      "outputs": []
    },
    {
      "metadata": {
        "id": "YVxMX7hGMmhJ",
        "colab_type": "text"
      },
      "cell_type": "markdown",
      "source": [
        "# **Download Feature Data stored in pickle format**"
      ]
    },
    {
      "metadata": {
        "colab_type": "code",
        "id": "46DAn-ZrMXyb",
        "colab": {}
      },
      "cell_type": "code",
      "source": [
        "!pip install -U -q PyDrive\n",
        "\n",
        "from pydrive.auth import GoogleAuth\n",
        "from pydrive.drive import GoogleDrive\n",
        "from google.colab import auth\n",
        "from oauth2client.client import GoogleCredentials\n",
        "\n",
        "# 1. Authenticate and create the PyDrive client.\n",
        "auth.authenticate_user()\n",
        "gauth = GoogleAuth()\n",
        "gauth.credentials = GoogleCredentials.get_application_default()\n",
        "drive = GoogleDrive(gauth)"
      ],
      "execution_count": 0,
      "outputs": []
    },
    {
      "metadata": {
        "id": "4obHKh1rMujS",
        "colab_type": "code",
        "colab": {}
      },
      "cell_type": "code",
      "source": [
        "download = drive.CreateFile({'id': '1KvpsAYprIzDISjY3pIltj8rTjhkBmq5C'})\n",
        "download.GetContentFile('features.pkl')\n",
        "\n",
        "#https://drive.google.com/open?id=1KvpsAYprIzDISjY3pIltj8rTjhkBmq5C"
      ],
      "execution_count": 0,
      "outputs": []
    },
    {
      "metadata": {
        "id": "9gWa3ZOqM97K",
        "colab_type": "code",
        "colab": {}
      },
      "cell_type": "code",
      "source": [
        "# Assuming pickle feats are already downloaded\n",
        "import pickle\n",
        "file = open('features.pkl', 'rb')\n",
        "labels = [[],[]]\n",
        "train_features = pickle.load(file)\n",
        "test_features = pickle.load(file)\n",
        "labels[0] = pickle.load(file)\n",
        "labels[1] = pickle.load(file)\n",
        "uid = pickle.load(file)\n",
        "file.close()"
      ],
      "execution_count": 0,
      "outputs": []
    },
    {
      "metadata": {
        "id": "Wvx7kGjimy6R",
        "colab_type": "code",
        "colab": {}
      },
      "cell_type": "code",
      "source": [
        "xtrain, xtest, ytrain, ytest = train_features, test_features, np.array(labels[0]), np.array(labels[1])"
      ],
      "execution_count": 0,
      "outputs": []
    },
    {
      "metadata": {
        "id": "xZdOyG526Hjl",
        "colab_type": "code",
        "outputId": "9a304862-84d1-419f-ccf1-c6fd5b38bd0a",
        "colab": {
          "base_uri": "https://localhost:8080/",
          "height": 34
        }
      },
      "cell_type": "code",
      "source": [
        "xtrain.shape"
      ],
      "execution_count": 13,
      "outputs": [
        {
          "output_type": "execute_result",
          "data": {
            "text/plain": [
              "(4640, 17415)"
            ]
          },
          "metadata": {
            "tags": []
          },
          "execution_count": 13
        }
      ]
    },
    {
      "metadata": {
        "id": "dOwRLsGSVQXt",
        "colab_type": "code",
        "outputId": "4c2cd844-e6b9-4add-fff2-a3d1f45d4ccd",
        "colab": {
          "base_uri": "https://localhost:8080/",
          "height": 1989
        }
      },
      "cell_type": "code",
      "source": [
        "\n",
        "##############################################\n",
        "import numpy as np\n",
        "import tensorflow as tf\n",
        "import random as rn\n",
        "\n",
        "# The below is necessary for starting Numpy generated random numbers\n",
        "# in a well-defined initial state.\n",
        "\n",
        "np.random.seed(2017)\n",
        "\n",
        "# The below is necessary for starting core Python generated random numbers\n",
        "# in a well-defined state.\n",
        "\n",
        "rn.seed(2017)\n",
        "\n",
        "# Force TensorFlow to use single thread.\n",
        "# Multiple threads are a potential source of non-reproducible results.\n",
        "# For further details, see: https://stackoverflow.com/questions/42022950/\n",
        "\n",
        "session_conf = tf.ConfigProto(intra_op_parallelism_threads=1,\n",
        "                              inter_op_parallelism_threads=1)\n",
        "\n",
        "from keras import backend as K\n",
        "\n",
        "# The below tf.set_random_seed() will make random number generation\n",
        "# in the TensorFlow backend have a well-defined initial state.\n",
        "# For further details, see:\n",
        "# https://www.tensorflow.org/api_docs/python/tf/set_random_seed\n",
        "\n",
        "tf.set_random_seed(2017)\n",
        "\n",
        "sess = tf.Session(graph=tf.get_default_graph(), config=session_conf)\n",
        "K.set_session(sess)\n",
        "#####################################################\n",
        "\n",
        "def create_network():\n",
        "    model = Sequential()\n",
        "    model.add(Dense(1024, input_dim=17415, activation='relu'))\n",
        "    model.add(Dropout(0.5))\n",
        "    model.add(Dense(1024, activation='relu'))\n",
        "    model.add(Dropout(0.5))\n",
        "    model.add(Dense(1, activation='sigmoid')) #sigmid .76\n",
        "\n",
        "    model.compile(loss='binary_crossentropy',\n",
        "                  optimizer='adam',\n",
        "                  metrics=['accuracy'])\n",
        "    return model\n",
        "\n",
        "earlystop = EarlyStopping(monitor='val_loss', min_delta=0, patience=3, \n",
        "                              verbose=0, mode='auto')  \n",
        "# Wrap Keras model so it can be used by scikit-learn\n",
        "neural_network = KerasClassifier(build_fn=create_network, epochs=15,\n",
        "          batch_size=512,validation_split=0.1 )  \n",
        "\n",
        "kfold = StratifiedKFold(n_splits=5, shuffle=True)\n",
        "                                 \n",
        "# Evaluate neural network using three-fold cross-validation\n",
        "results = cross_val_score(neural_network, xtrain, ytrain, cv=kfold,fit_params = {'callbacks': [earlystop]})                                 "
      ],
      "execution_count": 42,
      "outputs": [
        {
          "output_type": "stream",
          "text": [
            "Train on 3339 samples, validate on 372 samples\n",
            "Epoch 1/15\n",
            "3339/3339 [==============================] - 4s 1ms/step - loss: 0.6600 - acc: 0.6493 - val_loss: 0.5722 - val_acc: 0.7715\n",
            "Epoch 2/15\n",
            "3339/3339 [==============================] - 1s 239us/step - loss: 0.5473 - acc: 0.7278 - val_loss: 0.5048 - val_acc: 0.7500\n",
            "Epoch 3/15\n",
            "3339/3339 [==============================] - 1s 239us/step - loss: 0.5069 - acc: 0.7436 - val_loss: 0.4706 - val_acc: 0.7823\n",
            "Epoch 4/15\n",
            "3339/3339 [==============================] - 1s 238us/step - loss: 0.4775 - acc: 0.7667 - val_loss: 0.4634 - val_acc: 0.7688\n",
            "Epoch 5/15\n",
            "3339/3339 [==============================] - 1s 241us/step - loss: 0.4381 - acc: 0.7916 - val_loss: 0.4749 - val_acc: 0.7984\n",
            "Epoch 6/15\n",
            "3339/3339 [==============================] - 1s 241us/step - loss: 0.4282 - acc: 0.7987 - val_loss: 0.4791 - val_acc: 0.7634\n",
            "Epoch 7/15\n",
            "3339/3339 [==============================] - 1s 245us/step - loss: 0.3857 - acc: 0.8263 - val_loss: 0.4479 - val_acc: 0.7957\n",
            "Epoch 8/15\n",
            "3339/3339 [==============================] - 1s 235us/step - loss: 0.3319 - acc: 0.8553 - val_loss: 0.4570 - val_acc: 0.7796\n",
            "Epoch 9/15\n",
            "3339/3339 [==============================] - 1s 237us/step - loss: 0.3017 - acc: 0.8805 - val_loss: 0.4574 - val_acc: 0.8038\n",
            "Epoch 10/15\n",
            "3339/3339 [==============================] - 1s 236us/step - loss: 0.2759 - acc: 0.8817 - val_loss: 0.4823 - val_acc: 0.8065\n",
            "929/929 [==============================] - 0s 141us/step\n",
            "Train on 3340 samples, validate on 372 samples\n",
            "Epoch 1/15\n",
            "3340/3340 [==============================] - 4s 1ms/step - loss: 0.6517 - acc: 0.6551 - val_loss: 0.5249 - val_acc: 0.7930\n",
            "Epoch 2/15\n",
            "3340/3340 [==============================] - 1s 232us/step - loss: 0.5462 - acc: 0.7225 - val_loss: 0.4339 - val_acc: 0.8065\n",
            "Epoch 3/15\n",
            "3340/3340 [==============================] - 1s 234us/step - loss: 0.5028 - acc: 0.7455 - val_loss: 0.4320 - val_acc: 0.8145\n",
            "Epoch 4/15\n",
            "3340/3340 [==============================] - 1s 233us/step - loss: 0.4802 - acc: 0.7617 - val_loss: 0.4351 - val_acc: 0.7849\n",
            "Epoch 5/15\n",
            "3340/3340 [==============================] - 1s 236us/step - loss: 0.4435 - acc: 0.7886 - val_loss: 0.4186 - val_acc: 0.8011\n",
            "Epoch 6/15\n",
            "3340/3340 [==============================] - 1s 231us/step - loss: 0.4241 - acc: 0.7991 - val_loss: 0.4126 - val_acc: 0.8226\n",
            "Epoch 7/15\n",
            "3340/3340 [==============================] - 1s 234us/step - loss: 0.3817 - acc: 0.8266 - val_loss: 0.4014 - val_acc: 0.8333\n",
            "Epoch 8/15\n",
            "3340/3340 [==============================] - 1s 234us/step - loss: 0.3306 - acc: 0.8536 - val_loss: 0.4081 - val_acc: 0.8038\n",
            "Epoch 9/15\n",
            "3340/3340 [==============================] - 1s 235us/step - loss: 0.3053 - acc: 0.8647 - val_loss: 0.4285 - val_acc: 0.8253\n",
            "Epoch 10/15\n",
            "3340/3340 [==============================] - 1s 233us/step - loss: 0.2647 - acc: 0.8874 - val_loss: 0.4696 - val_acc: 0.7823\n",
            "928/928 [==============================] - 0s 139us/step\n",
            "Train on 3340 samples, validate on 372 samples\n",
            "Epoch 1/15\n",
            "3340/3340 [==============================] - 4s 1ms/step - loss: 0.6524 - acc: 0.6641 - val_loss: 0.5507 - val_acc: 0.7688\n",
            "Epoch 2/15\n",
            "3340/3340 [==============================] - 1s 237us/step - loss: 0.5310 - acc: 0.7398 - val_loss: 0.4911 - val_acc: 0.7527\n",
            "Epoch 3/15\n",
            "3340/3340 [==============================] - 1s 236us/step - loss: 0.4966 - acc: 0.7542 - val_loss: 0.5264 - val_acc: 0.7312\n",
            "Epoch 4/15\n",
            "3340/3340 [==============================] - 1s 241us/step - loss: 0.4781 - acc: 0.7665 - val_loss: 0.4390 - val_acc: 0.8038\n",
            "Epoch 5/15\n",
            "3340/3340 [==============================] - 1s 237us/step - loss: 0.4327 - acc: 0.7916 - val_loss: 0.4290 - val_acc: 0.8091\n",
            "Epoch 6/15\n",
            "3340/3340 [==============================] - 1s 237us/step - loss: 0.4033 - acc: 0.8165 - val_loss: 0.4195 - val_acc: 0.8280\n",
            "Epoch 7/15\n",
            "3340/3340 [==============================] - 1s 238us/step - loss: 0.3607 - acc: 0.8407 - val_loss: 0.4496 - val_acc: 0.7634\n",
            "Epoch 8/15\n",
            "3340/3340 [==============================] - 1s 239us/step - loss: 0.3212 - acc: 0.8593 - val_loss: 0.4189 - val_acc: 0.8172\n",
            "Epoch 9/15\n",
            "3340/3340 [==============================] - 1s 237us/step - loss: 0.2929 - acc: 0.8751 - val_loss: 0.4533 - val_acc: 0.8280\n",
            "Epoch 10/15\n",
            "3340/3340 [==============================] - 1s 236us/step - loss: 0.2453 - acc: 0.9006 - val_loss: 0.4264 - val_acc: 0.8333\n",
            "Epoch 11/15\n",
            "3340/3340 [==============================] - 1s 240us/step - loss: 0.2104 - acc: 0.9186 - val_loss: 0.7308 - val_acc: 0.6855\n",
            "928/928 [==============================] - 0s 144us/step\n",
            "Train on 3340 samples, validate on 372 samples\n",
            "Epoch 1/15\n",
            "3340/3340 [==============================] - 4s 1ms/step - loss: 0.6586 - acc: 0.6278 - val_loss: 0.5900 - val_acc: 0.7312\n",
            "Epoch 2/15\n",
            "3340/3340 [==============================] - 1s 242us/step - loss: 0.5391 - acc: 0.7287 - val_loss: 0.4864 - val_acc: 0.7446\n",
            "Epoch 3/15\n",
            "3340/3340 [==============================] - 1s 238us/step - loss: 0.5120 - acc: 0.7386 - val_loss: 0.4656 - val_acc: 0.7984\n",
            "Epoch 4/15\n",
            "3340/3340 [==============================] - 1s 238us/step - loss: 0.4740 - acc: 0.7743 - val_loss: 0.4529 - val_acc: 0.7796\n",
            "Epoch 5/15\n",
            "3340/3340 [==============================] - 1s 239us/step - loss: 0.4394 - acc: 0.7928 - val_loss: 0.5075 - val_acc: 0.7177\n",
            "Epoch 6/15\n",
            "3340/3340 [==============================] - 1s 238us/step - loss: 0.4240 - acc: 0.8051 - val_loss: 0.4655 - val_acc: 0.8011\n",
            "Epoch 7/15\n",
            "3340/3340 [==============================] - 1s 235us/step - loss: 0.3926 - acc: 0.8201 - val_loss: 0.4420 - val_acc: 0.7957\n",
            "Epoch 8/15\n",
            "3340/3340 [==============================] - 1s 238us/step - loss: 0.3684 - acc: 0.8302 - val_loss: 0.5078 - val_acc: 0.7419\n",
            "Epoch 9/15\n",
            "3340/3340 [==============================] - 1s 237us/step - loss: 0.3243 - acc: 0.8593 - val_loss: 0.4488 - val_acc: 0.7796\n",
            "Epoch 10/15\n",
            "3340/3340 [==============================] - 1s 236us/step - loss: 0.2622 - acc: 0.8985 - val_loss: 0.4858 - val_acc: 0.8011\n",
            "928/928 [==============================] - 0s 136us/step\n",
            "Train on 3341 samples, validate on 372 samples\n",
            "Epoch 1/15\n",
            "3341/3341 [==============================] - 4s 1ms/step - loss: 0.6511 - acc: 0.6495 - val_loss: 0.6363 - val_acc: 0.6210\n",
            "Epoch 2/15\n",
            "3341/3341 [==============================] - 1s 237us/step - loss: 0.5515 - acc: 0.7201 - val_loss: 0.5139 - val_acc: 0.7446\n",
            "Epoch 3/15\n",
            "3341/3341 [==============================] - 1s 237us/step - loss: 0.5166 - acc: 0.7435 - val_loss: 0.5243 - val_acc: 0.7339\n",
            "Epoch 4/15\n",
            "3341/3341 [==============================] - 1s 236us/step - loss: 0.4862 - acc: 0.7626 - val_loss: 0.4983 - val_acc: 0.7419\n",
            "Epoch 5/15\n",
            "3341/3341 [==============================] - 1s 233us/step - loss: 0.4707 - acc: 0.7695 - val_loss: 0.4856 - val_acc: 0.7634\n",
            "Epoch 6/15\n",
            "3341/3341 [==============================] - 1s 235us/step - loss: 0.4338 - acc: 0.7959 - val_loss: 0.4825 - val_acc: 0.7876\n",
            "Epoch 7/15\n",
            "3341/3341 [==============================] - 1s 235us/step - loss: 0.4175 - acc: 0.7983 - val_loss: 0.4943 - val_acc: 0.7151\n",
            "Epoch 8/15\n",
            "3341/3341 [==============================] - 1s 235us/step - loss: 0.3734 - acc: 0.8351 - val_loss: 0.4898 - val_acc: 0.7258\n",
            "Epoch 9/15\n",
            "3341/3341 [==============================] - 1s 231us/step - loss: 0.3471 - acc: 0.8497 - val_loss: 0.4725 - val_acc: 0.7634\n",
            "Epoch 10/15\n",
            "3341/3341 [==============================] - 1s 234us/step - loss: 0.2849 - acc: 0.8770 - val_loss: 0.4741 - val_acc: 0.7634\n",
            "Epoch 11/15\n",
            "3341/3341 [==============================] - 1s 239us/step - loss: 0.2551 - acc: 0.8955 - val_loss: 0.4909 - val_acc: 0.7957\n",
            "Epoch 12/15\n",
            "3341/3341 [==============================] - 1s 233us/step - loss: 0.2160 - acc: 0.9162 - val_loss: 0.5341 - val_acc: 0.7554\n",
            "927/927 [==============================] - 0s 137us/step\n"
          ],
          "name": "stdout"
        }
      ]
    },
    {
      "metadata": {
        "id": "GJSXi4QADeQG",
        "colab_type": "code",
        "colab": {
          "base_uri": "https://localhost:8080/",
          "height": 34
        },
        "outputId": "71d0a621-001c-423f-b059-472473f1ea7d"
      },
      "cell_type": "code",
      "source": [
        "print(results)"
      ],
      "execution_count": 44,
      "outputs": [
        {
          "output_type": "stream",
          "text": [
            "[0.78363833 0.75107759 0.69073277 0.75969827 0.78532903]\n"
          ],
          "name": "stdout"
        }
      ]
    },
    {
      "metadata": {
        "id": "DUc7QXPCDZon",
        "colab_type": "code",
        "colab": {
          "base_uri": "https://localhost:8080/",
          "height": 34
        },
        "outputId": "0b8c3761-c7e6-4f83-9e51-132f52c57f51"
      },
      "cell_type": "code",
      "source": [
        "print(\"Standardized: %.2f%% (%.2f%%)\" % (results.mean()*100, results.std()*100))"
      ],
      "execution_count": 45,
      "outputs": [
        {
          "output_type": "stream",
          "text": [
            "Standardized: 75.41% (3.44%)\n"
          ],
          "name": "stdout"
        }
      ]
    },
    {
      "metadata": {
        "id": "l5nnrj8vwihT",
        "colab_type": "code",
        "colab": {
          "base_uri": "https://localhost:8080/",
          "height": 544
        },
        "outputId": "5de9ae95-5a8e-486c-ff9c-dc45c3d22158"
      },
      "cell_type": "code",
      "source": [
        "neural_network.fit(xtrain,ytrain)\n",
        "y_pred = neural_network.predict(xtest)"
      ],
      "execution_count": 46,
      "outputs": [
        {
          "output_type": "stream",
          "text": [
            "Train on 4176 samples, validate on 464 samples\n",
            "Epoch 1/15\n",
            "4176/4176 [==============================] - 5s 1ms/step - loss: 0.6593 - acc: 0.6477 - val_loss: 0.5639 - val_acc: 0.7759\n",
            "Epoch 2/15\n",
            "4176/4176 [==============================] - 1s 237us/step - loss: 0.5399 - acc: 0.7222 - val_loss: 0.4727 - val_acc: 0.7716\n",
            "Epoch 3/15\n",
            "4176/4176 [==============================] - 1s 236us/step - loss: 0.5109 - acc: 0.7481 - val_loss: 0.4724 - val_acc: 0.7608\n",
            "Epoch 4/15\n",
            "4176/4176 [==============================] - 1s 237us/step - loss: 0.4751 - acc: 0.7689 - val_loss: 0.4514 - val_acc: 0.7716\n",
            "Epoch 5/15\n",
            "4176/4176 [==============================] - 1s 236us/step - loss: 0.4442 - acc: 0.7864 - val_loss: 0.4416 - val_acc: 0.8125\n",
            "Epoch 6/15\n",
            "4176/4176 [==============================] - 1s 235us/step - loss: 0.4204 - acc: 0.8070 - val_loss: 0.4479 - val_acc: 0.7694\n",
            "Epoch 7/15\n",
            "4176/4176 [==============================] - 1s 234us/step - loss: 0.3890 - acc: 0.8156 - val_loss: 0.4353 - val_acc: 0.8276\n",
            "Epoch 8/15\n",
            "4176/4176 [==============================] - 1s 235us/step - loss: 0.3723 - acc: 0.8293 - val_loss: 0.4321 - val_acc: 0.7888\n",
            "Epoch 9/15\n",
            "4176/4176 [==============================] - 1s 239us/step - loss: 0.3098 - acc: 0.8690 - val_loss: 0.4357 - val_acc: 0.8190\n",
            "Epoch 10/15\n",
            "4176/4176 [==============================] - 1s 238us/step - loss: 0.2685 - acc: 0.8846 - val_loss: 0.4984 - val_acc: 0.7629\n",
            "Epoch 11/15\n",
            "4176/4176 [==============================] - 1s 240us/step - loss: 0.2708 - acc: 0.8865 - val_loss: 0.5307 - val_acc: 0.7500\n",
            "Epoch 12/15\n",
            "4176/4176 [==============================] - 1s 242us/step - loss: 0.2243 - acc: 0.9059 - val_loss: 0.4590 - val_acc: 0.8147\n",
            "Epoch 13/15\n",
            "4176/4176 [==============================] - 1s 238us/step - loss: 0.2052 - acc: 0.9188 - val_loss: 0.4698 - val_acc: 0.8103\n",
            "Epoch 14/15\n",
            "4176/4176 [==============================] - 1s 244us/step - loss: 0.1697 - acc: 0.9363 - val_loss: 0.4931 - val_acc: 0.8147\n",
            "Epoch 15/15\n",
            "4176/4176 [==============================] - 1s 243us/step - loss: 0.1323 - acc: 0.9511 - val_loss: 0.5289 - val_acc: 0.8168\n"
          ],
          "name": "stdout"
        }
      ]
    },
    {
      "metadata": {
        "id": "iMz2f0LoA6M_",
        "colab_type": "code",
        "colab": {}
      },
      "cell_type": "code",
      "source": [
        "from google.colab import files\n",
        "model_name=\"sub_002_keras-base-learner\"\n",
        "\n",
        "ts = pd.DataFrame(\n",
        "{'Unique ID': uid,\n",
        " 'label': y_pred.flatten()\n",
        "})\n",
        "ts.to_csv(model_name+\".csv\",index=False)\n",
        "files.download(model_name+\".csv\") "
      ],
      "execution_count": 0,
      "outputs": []
    },
    {
      "metadata": {
        "id": "SrEjx5Mc4UJ4",
        "colab_type": "code",
        "colab": {
          "base_uri": "https://localhost:8080/",
          "height": 34
        },
        "outputId": "c23088e6-4d05-43f4-f8e7-1366f5ce024b"
      },
      "cell_type": "code",
      "source": [
        "print(\"Prediction score: %.5f\" % accuracy_score(y_pred, ytest))"
      ],
      "execution_count": 47,
      "outputs": [
        {
          "output_type": "stream",
          "text": [
            "Prediction score: 0.76830\n"
          ],
          "name": "stdout"
        }
      ]
    },
    {
      "metadata": {
        "id": "IvBN0hjTB97r",
        "colab_type": "code",
        "colab": {}
      },
      "cell_type": "code",
      "source": [
        ""
      ],
      "execution_count": 0,
      "outputs": []
    }
  ]
}